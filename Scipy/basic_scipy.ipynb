{
 "cells": [
  {
   "cell_type": "code",
   "execution_count": 3,
   "metadata": {
    "collapsed": false
   },
   "outputs": [
    {
     "name": "stdout",
     "output_type": "stream",
     "text": [
      "[ 0.50752722  0.06971237  0.16657955  0.79449061  0.24953947  0.24264118\n",
      "  0.3892325   0.53793742  0.32119048  0.36790969]\n",
      "[ 0.88329352  0.73179121  0.59340082  0.72317199  0.57649751  0.73933823\n",
      "  0.53305407  0.63587735  0.30960043  0.60027981]\n"
     ]
    }
   ],
   "source": [
    "import numpy as np\n",
    "import scipy.stats as stats\n",
    "import scipy.optimize as opt\n",
    "\n",
    "\n",
    "'''\n",
    "生成n个随机数可用rv_continuous.rvs(size=n)或rv_discrete.rvs(size=n)，\n",
    "rv_continuous表示连续型的随机分布，如均匀分布（uniform）、正态分布（norm）、贝塔分布（beta）等；\n",
    "rv_discrete表示离散型的随机分布，如伯努利分布（bernoulli）、几何分布（geom）、泊松分布（poisson）等。\n",
    "'''\n",
    "# 生成10个[0, 1]区间上的随机数和10个服从参数a=4，b=2的贝塔分布随机数\n",
    "rv_unif = stats.uniform.rvs(size=10) # 均匀分布的上下界默认是0和1\n",
    "print(rv_unif)\n",
    "rv_beta = stats.beta.rvs(size=10, a=4, b=2)\n",
    "print(rv_beta) "
   ]
  },
  {
   "cell_type": "code",
   "execution_count": 4,
   "metadata": {
    "collapsed": false
   },
   "outputs": [
    {
     "name": "stdout",
     "output_type": "stream",
     "text": [
      "[ 0.43857338  0.9411551   0.75116671  0.92002864  0.62030521  0.56585548\n",
      "  0.41843548  0.5953096   0.88983036  0.94675351]\n",
      "[ 0.43857338  0.9411551   0.75116671  0.92002864  0.62030521  0.56585548\n",
      "  0.41843548  0.5953096   0.88983036  0.94675351]\n"
     ]
    }
   ],
   "source": [
    "np.random.seed(seed=2015)\n",
    "rv_beta = stats.beta.rvs(size=10, a=4, b=2)\n",
    "print(rv_beta) \n",
    "\n",
    "np.random.seed(seed=2015)\n",
    "beta = stats.beta(a=4, b=2)\n",
    "print(beta.rvs(size=10)) \n"
   ]
  },
  {
   "cell_type": "code",
   "execution_count": 5,
   "metadata": {
    "collapsed": false
   },
   "outputs": [
    {
     "name": "stdout",
     "output_type": "stream",
     "text": [
      "mean of data is: 0.705195138069\n",
      "median of data is: 0.658167882933\n",
      "standard deviation of data is: 2.08967006905\n"
     ]
    }
   ],
   "source": [
    "norm_dist = stats.norm(loc=0.5, scale=2)\n",
    "n = 200\n",
    "dat = norm_dist.rvs(size=n)\n",
    "print(\"mean of data is: \" + str(np.mean(dat))) \n",
    "print(\"median of data is: \" + str(np.median(dat))) \n",
    "print(\"standard deviation of data is: \" + str(np.std(dat))) "
   ]
  },
  {
   "cell_type": "code",
   "execution_count": 7,
   "metadata": {
    "collapsed": false
   },
   "outputs": [
    {
     "name": "stdout",
     "output_type": "stream",
     "text": [
      "KS-statistic D =  0.045 , p-value = 0.8195\n"
     ]
    }
   ],
   "source": [
    "mu = np.mean(dat)\n",
    "sigma = np.std(dat)\n",
    "stat_val, p_val = stats.kstest(dat, 'norm', (mu, sigma))  # kstest函数，参数分别是数据、拟检验的分布名称和对应的参数\n",
    "print('KS-statistic D = %6.3f , p-value = %6.4f' % (stat_val, p_val)) "
   ]
  },
  {
   "cell_type": "code",
   "execution_count": 8,
   "metadata": {
    "collapsed": false
   },
   "outputs": [
    {
     "name": "stdout",
     "output_type": "stream",
     "text": [
      "One-sample t-statistic D =  4.761, p-value = 0.0000\n"
     ]
    }
   ],
   "source": [
    "# 假设检验的p-value值很大（在原假设下，p-value是服从[0, 1]区间上的均匀分布的随机变量，可参考 http://en.wikipedia.org/wiki/P-value ），因此我们接受原假设，即该数据通过了正态性的检验。在正态性的前提下，我们可进一步检验这组数据的均值是不是0。典型的方法是t检验（t-test），其中单样本的t检验函数为ttest_1samp：\n",
    "stat_val, p_val = stats.ttest_1samp(dat, 0)\n",
    "print('One-sample t-statistic D = %6.3f, p-value = %6.4f' % (stat_val, p_val)) "
   ]
  },
  {
   "cell_type": "code",
   "execution_count": 9,
   "metadata": {
    "collapsed": false
   },
   "outputs": [
    {
     "name": "stdout",
     "output_type": "stream",
     "text": [
      "Two-sample t-statistic D =  5.565, p-value = 0.0000\n"
     ]
    },
    {
     "name": "stderr",
     "output_type": "stream",
     "text": [
      "D:\\Anaconda3\\lib\\site-packages\\scipy\\stats\\_continuous_distns.py:127: VisibleDeprecationWarning: using a non-integer number instead of an integer will result in an error in the future\n",
      "  return self._random_state.standard_normal(self._size)\n"
     ]
    }
   ],
   "source": [
    "# 看到p-value<0.05，即给定显著性水平0.05的前提下，我们应拒绝原假设：数据的均值为0。我们再生成一组数据，尝试一下双样本的t检验（ttest_ind）：\n",
    "norm_dist2 = stats.norm(loc=-0.2, scale=1.2)\n",
    "dat2 = norm_dist2.rvs(size=n/2)\n",
    "stat_val, p_val = stats.ttest_ind(dat, dat2, equal_var=False)\n",
    "print('Two-sample t-statistic D = %6.3f, p-value = %6.4f' % (stat_val, p_val)) "
   ]
  },
  {
   "cell_type": "code",
   "execution_count": 10,
   "metadata": {
    "collapsed": false
   },
   "outputs": [
    {
     "name": "stdout",
     "output_type": "stream",
     "text": [
      "[ 0.59399415  0.90842181  0.95957232]\n",
      "[ 0.1947002   0.30326533  0.36740397]\n"
     ]
    }
   ],
   "source": [
    "# 有时需要知道某数值在一个分布中的分位，或者给定了一个分布，求某分位上的数值。这可以通过cdf和ppf函数完成：\n",
    "g_dist = stats.gamma(a=2)\n",
    "print(g_dist.cdf([2, 4, 5])) \n",
    "print(g_dist.pdf([0.25, 0.5, 0.95])) \n"
   ]
  },
  {
   "cell_type": "code",
   "execution_count": 11,
   "metadata": {
    "collapsed": false
   },
   "outputs": [
    {
     "data": {
      "text/plain": [
       "15.00000000089533"
      ]
     },
     "execution_count": 11,
     "metadata": {},
     "output_type": "execute_result"
    }
   ],
   "source": [
    "# 对于一个给定的分布，可以用moment很方便的查看分布的矩信息，例如我们查看N(0,1)的六阶原点矩：\n",
    "stats.norm.moment(6, loc=0, scale=1)"
   ]
  },
  {
   "cell_type": "code",
   "execution_count": 13,
   "metadata": {
    "collapsed": false
   },
   "outputs": [
    {
     "name": "stdout",
     "output_type": "stream",
     "text": [
      "DescribeResult(nobs=100, minmax=(-5.9534450163746104, 5.380051574030813), mean=-0.24988082991177035, variance=3.6156427140671683, skewness=-0.16691971077916726, kurtosis=0.5865943905172113)\n",
      "Data size is: 100\n",
      "Minimum value is: -5.95344501637\n",
      "Maximum value is: 5.38005157403\n",
      "Arithmetic mean is: -0.249880829912\n",
      "Unbiased variance is: 3.61564271407\n",
      "Biased skewness is: -0.16691971077916726\n",
      "Biased kurtosis is: 0.5865943905172113\n"
     ]
    }
   ],
   "source": [
    "# describe函数提供对数据集的统计描述分析，包括数据样本大小，极值，均值，方差，偏度和峰度：\n",
    "norm_dist = stats.norm(loc=0, scale=1.8)\n",
    "dat = norm_dist.rvs(size=100)\n",
    "info = stats.describe(dat)\n",
    "print(info)\n",
    "print(\"Data size is: \" + str(info[0])) \n",
    "print(\"Minimum value is: \" + str(info[1][0])) \n",
    "print(\"Maximum value is: \" + str(info[1][1])) \n",
    "print(\"Arithmetic mean is: \" + str(info[2])) \n",
    "print(\"Unbiased variance is: \" + str(info[3])) \n",
    "print(\"Biased skewness is: \" + str(info[4])) \n",
    "print(\"Biased kurtosis is: \" + str(info[5])) "
   ]
  },
  {
   "cell_type": "code",
   "execution_count": 14,
   "metadata": {
    "collapsed": false
   },
   "outputs": [
    {
     "name": "stdout",
     "output_type": "stream",
     "text": [
      "MLE of data mean:0.165282446834\n",
      "MLE of data standard deviation:1.8886678416\n"
     ]
    }
   ],
   "source": [
    "# fit函数来得到对应分布参数的极大似然估计（MLE, maximum-likelihood estimation）\n",
    "norm_dist = stats.norm(loc=0, scale=1.8)\n",
    "dat = norm_dist.rvs(size=100)\n",
    "mu, sigma = stats.norm.fit(dat)\n",
    "print(\"MLE of data mean:\" + str(mu)) \n",
    "print(\"MLE of data standard deviation:\" + str(sigma)) "
   ]
  },
  {
   "cell_type": "code",
   "execution_count": 16,
   "metadata": {
    "collapsed": false
   },
   "outputs": [
    {
     "name": "stdout",
     "output_type": "stream",
     "text": [
      "Pearson correlation coefficient: -0.00349696626004\n",
      "Spearman's rank correlation coefficient: -0.0459885988599\n"
     ]
    }
   ],
   "source": [
    "# pearsonr和spearmanr可以计算Pearson和Spearman相关系数，这两个相关系数度量了两组数据的相互线性关联程度：\n",
    "norm_dist = stats.norm()\n",
    "dat1 = norm_dist.rvs(size=100)\n",
    "exp_dist = stats.expon()\n",
    "dat2 = exp_dist.rvs(size=100)\n",
    "cor, pval = stats.pearsonr(dat1, dat2)\n",
    "print(\"Pearson correlation coefficient: \" + str(cor)) \n",
    "cor, pval = stats.spearmanr(dat1, dat2)\n",
    "print(\"Spearman's rank correlation coefficient: \" + str(cor)) "
   ]
  },
  {
   "cell_type": "code",
   "execution_count": 17,
   "metadata": {
    "collapsed": false
   },
   "outputs": [
    {
     "name": "stdout",
     "output_type": "stream",
     "text": [
      "Slope of fitted model is: 1.33900185994\n",
      "Intercept of fitted model is: 2.19644576358\n",
      "R-squared: 0.70087465057\n"
     ]
    }
   ],
   "source": [
    "x = stats.chi2.rvs(3, size=50)\n",
    "y = 2.5 + 1.2 * x + stats.norm.rvs(size=50, loc=0, scale=1.5)\n",
    "slope, intercept, r_value, p_value, std_err = stats.linregress(x, y)\n",
    "print(\"Slope of fitted model is:\" , slope) \n",
    "print(\"Intercept of fitted model is:\", intercept) \n",
    "print(\"R-squared:\", r_value**2) \n",
    "\n",
    "# StatsModels（ http://statsmodels.sourceforge.net ）模块提供了更为专业，更多的统计相关函数"
   ]
  },
  {
   "cell_type": "code",
   "execution_count": null,
   "metadata": {
    "collapsed": true
   },
   "outputs": [],
   "source": []
  }
 ],
 "metadata": {
  "kernelspec": {
   "display_name": "Python 3",
   "language": "python",
   "name": "python3"
  },
  "language_info": {
   "codemirror_mode": {
    "name": "ipython",
    "version": 3
   },
   "file_extension": ".py",
   "mimetype": "text/x-python",
   "name": "python",
   "nbconvert_exporter": "python",
   "pygments_lexer": "ipython3",
   "version": "3.6.0"
  }
 },
 "nbformat": 4,
 "nbformat_minor": 2
}
