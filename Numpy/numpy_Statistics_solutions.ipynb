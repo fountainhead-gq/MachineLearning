{
 "cells": [
  {
   "cell_type": "markdown",
   "metadata": {},
   "source": [
    "# Statistics"
   ]
  },
  {
   "cell_type": "code",
   "execution_count": 1,
   "metadata": {
    "collapsed": true
   },
   "outputs": [],
   "source": [
    "import numpy as np"
   ]
  },
  {
   "cell_type": "code",
   "execution_count": 2,
   "metadata": {
    "collapsed": false
   },
   "outputs": [
    {
     "data": {
      "text/plain": [
       "'1.11.3'"
      ]
     },
     "execution_count": 2,
     "metadata": {},
     "output_type": "execute_result"
    }
   ],
   "source": [
    "np.__version__"
   ]
  },
  {
   "cell_type": "markdown",
   "metadata": {},
   "source": [
    "## Order statistics"
   ]
  },
  {
   "cell_type": "markdown",
   "metadata": {},
   "source": [
    "Q1. Return the minimum value of x along the second axis."
   ]
  },
  {
   "cell_type": "code",
   "execution_count": 4,
   "metadata": {
    "collapsed": false
   },
   "outputs": [
    {
     "name": "stdout",
     "output_type": "stream",
     "text": [
      "x=\n",
      " [[0 1]\n",
      " [2 3]]\n",
      "ans=\n",
      " [0 2]\n"
     ]
    }
   ],
   "source": [
    "x = np.arange(4).reshape((2, 2))\n",
    "print(\"x=\\n\", x)\n",
    "print(\"ans=\\n\", np.amin(x, 1))"
   ]
  },
  {
   "cell_type": "markdown",
   "metadata": {},
   "source": [
    "Q2. Return the maximum value of x along the second axis. Reduce the second axis to the dimension with size one."
   ]
  },
  {
   "cell_type": "code",
   "execution_count": 5,
   "metadata": {
    "collapsed": false
   },
   "outputs": [
    {
     "name": "stdout",
     "output_type": "stream",
     "text": [
      "x=\n",
      " [[0 1]\n",
      " [2 3]]\n",
      "ans=\n",
      " [[1]\n",
      " [3]]\n"
     ]
    }
   ],
   "source": [
    "x = np.arange(4).reshape((2, 2))\n",
    "print(\"x=\\n\", x)\n",
    "print(\"ans=\\n\", np.amax(x, 1, keepdims=True))"
   ]
  },
  {
   "cell_type": "markdown",
   "metadata": {},
   "source": [
    "Q3. Calcuate the difference between the maximum and the minimum of x along the second axis."
   ]
  },
  {
   "cell_type": "code",
   "execution_count": 7,
   "metadata": {
    "collapsed": false
   },
   "outputs": [
    {
     "name": "stdout",
     "output_type": "stream",
     "text": [
      "x=\n",
      " [[0 1 2 3 4]\n",
      " [5 6 7 8 9]]\n",
      "ans=\n",
      " [4 4]\n",
      "[4 4]\n"
     ]
    }
   ],
   "source": [
    "x = np.arange(10).reshape((2, 5))\n",
    "print(\"x=\\n\", x)\n",
    "\n",
    "out1 = np.ptp(x, 1)\n",
    "out2 = np.amax(x, 1) - np.amin(x, 1)\n",
    "\n",
    "print(\"ans=\\n\", out1)\n",
    "print(out2)\n"
   ]
  },
  {
   "cell_type": "markdown",
   "metadata": {},
   "source": [
    "Q4. Compute the 75th percentile of x along the second axis."
   ]
  },
  {
   "cell_type": "code",
   "execution_count": 9,
   "metadata": {
    "collapsed": false
   },
   "outputs": [
    {
     "name": "stdout",
     "output_type": "stream",
     "text": [
      "x=\n",
      " [[ 1  2  3  4  5]\n",
      " [ 6  7  8  9 10]]\n",
      "ans=\n",
      " [ 4.  9.]\n"
     ]
    }
   ],
   "source": [
    "x = np.arange(1, 11).reshape((2, 5))\n",
    "print(\"x=\\n\", x)\n",
    "\n",
    "print(\"ans=\\n\", np.percentile(x, 75, 1))"
   ]
  },
  {
   "cell_type": "markdown",
   "metadata": {},
   "source": [
    "## Averages and variances"
   ]
  },
  {
   "cell_type": "markdown",
   "metadata": {},
   "source": [
    "Q5. Compute the median of flattened x."
   ]
  },
  {
   "cell_type": "code",
   "execution_count": 10,
   "metadata": {
    "collapsed": false
   },
   "outputs": [
    {
     "name": "stdout",
     "output_type": "stream",
     "text": [
      "x=\n",
      " [[1 2 3]\n",
      " [4 5 6]\n",
      " [7 8 9]]\n",
      "ans=\n",
      " 5.0\n"
     ]
    }
   ],
   "source": [
    "x = np.arange(1, 10).reshape((3, 3))\n",
    "print(\"x=\\n\", x)\n",
    "\n",
    "print(\"ans=\\n\", np.median(x))"
   ]
  },
  {
   "cell_type": "markdown",
   "metadata": {},
   "source": [
    "Q6. Compute the weighted average of x."
   ]
  },
  {
   "cell_type": "code",
   "execution_count": 12,
   "metadata": {
    "collapsed": false
   },
   "outputs": [
    {
     "name": "stdout",
     "output_type": "stream",
     "text": [
      "2.66666666667\n",
      "2.66666666667\n"
     ]
    }
   ],
   "source": [
    "x = np.arange(5)\n",
    "weights = np.arange(1, 6)\n",
    "\n",
    "out1 = np.average(x, weights=weights)\n",
    "out2 = (x*(weights/weights.sum())).sum()\n",
    "assert np.allclose(out1, out2)\n",
    "print(out1)\n",
    "print(out2)"
   ]
  },
  {
   "cell_type": "markdown",
   "metadata": {},
   "source": [
    "Q7. Compute the mean, standard deviation, and variance of x along the second axis."
   ]
  },
  {
   "cell_type": "code",
   "execution_count": 14,
   "metadata": {
    "collapsed": false
   },
   "outputs": [
    {
     "name": "stdout",
     "output_type": "stream",
     "text": [
      "x=\n",
      " [0 1 2 3 4]\n",
      "mean=\n",
      " 2.0\n",
      "average=\n",
      " 2.0\n",
      "std=\n",
      " 1.41421356237\n",
      "1.41421356237\n",
      "variance=\n",
      " 2.0\n",
      "2.0\n"
     ]
    }
   ],
   "source": [
    "x = np.arange(5)\n",
    "print(\"x=\\n\",x)\n",
    "\n",
    "out1 = np.mean(x)\n",
    "out2 = np.average(x)\n",
    "print(\"mean=\\n\", out1)\n",
    "print(\"average=\\n\", out2)\n",
    "\n",
    "out3 = np.std(x)\n",
    "out4 = np.sqrt(np.mean((x - np.mean(x)) ** 2 ))\n",
    "\n",
    "print(\"std=\\n\", out3)\n",
    "print(out4)\n",
    "\n",
    "out5 = np.var(x)\n",
    "out6 = np.mean((x - np.mean(x)) ** 2 )\n",
    "\n",
    "print(\"variance=\\n\", out5)\n",
    "print(out6)\n"
   ]
  },
  {
   "cell_type": "markdown",
   "metadata": {},
   "source": [
    "## Correlating"
   ]
  },
  {
   "cell_type": "markdown",
   "metadata": {},
   "source": [
    "Q8. Compute the covariance matrix of x and y."
   ]
  },
  {
   "cell_type": "code",
   "execution_count": 15,
   "metadata": {
    "collapsed": false
   },
   "outputs": [
    {
     "name": "stdout",
     "output_type": "stream",
     "text": [
      "ans=\n",
      " [[ 1. -1.]\n",
      " [-1.  1.]]\n"
     ]
    }
   ],
   "source": [
    "x = np.array([0, 1, 2])\n",
    "y = np.array([2, 1, 0])\n",
    "\n",
    "print(\"ans=\\n\", np.cov(x, y))"
   ]
  },
  {
   "cell_type": "markdown",
   "metadata": {},
   "source": [
    "Q9. In the above covariance matrix, what does the -1 mean?"
   ]
  },
  {
   "cell_type": "markdown",
   "metadata": {},
   "source": [
    "It means `x` and `y` correlate perfectly in opposite directions."
   ]
  },
  {
   "cell_type": "markdown",
   "metadata": {},
   "source": [
    "Q10. Compute Pearson product-moment correlation coefficients of x and y."
   ]
  },
  {
   "cell_type": "code",
   "execution_count": 17,
   "metadata": {
    "collapsed": false
   },
   "outputs": [
    {
     "name": "stdout",
     "output_type": "stream",
     "text": [
      "ans=\n",
      " [[ 1.          0.92857143]\n",
      " [ 0.92857143  1.        ]]\n"
     ]
    }
   ],
   "source": [
    "x = np.array([0, 1, 3])\n",
    "y = np.array([2, 4, 5])\n",
    "print(\"ans=\\n\", np.corrcoef(x, y))"
   ]
  },
  {
   "cell_type": "markdown",
   "metadata": {},
   "source": [
    "Q11. Compute cross-correlation of x and y."
   ]
  },
  {
   "cell_type": "code",
   "execution_count": 19,
   "metadata": {
    "collapsed": false
   },
   "outputs": [
    {
     "name": "stdout",
     "output_type": "stream",
     "text": [
      "ans=\n",
      " [19]\n"
     ]
    }
   ],
   "source": [
    "x = np.array([0, 1, 3])\n",
    "y = np.array([2, 4, 5])\n",
    "\n",
    "print(\"ans=\\n\", np.correlate(x, y))"
   ]
  },
  {
   "cell_type": "markdown",
   "metadata": {},
   "source": [
    "## Histograms"
   ]
  },
  {
   "cell_type": "markdown",
   "metadata": {},
   "source": [
    "Q12. Compute the histogram of x against the bins."
   ]
  },
  {
   "cell_type": "code",
   "execution_count": 20,
   "metadata": {
    "collapsed": false
   },
   "outputs": [
    {
     "name": "stdout",
     "output_type": "stream",
     "text": [
      "ans=\n",
      " (array([2, 3, 1], dtype=int64), array([0, 1, 2, 3]))\n"
     ]
    },
    {
     "data": {
      "image/png": "[encoded data removed]",
      "text/plain": [
       "<matplotlib.figure.Figure at 0x6343b70>"
      ]
     },
     "metadata": {},
     "output_type": "display_data"
    }
   ],
   "source": [
    "x = np.array([0.5, 0.7, 1.0, 1.2, 1.3, 2.1])\n",
    "bins = np.array([0, 1, 2, 3])\n",
    "print(\"ans=\\n\", np.histogram(x, bins))\n",
    "\n",
    "import matplotlib.pyplot as plt\n",
    "%matplotlib inline\n",
    "plt.hist(x, bins=bins)\n",
    "plt.show()"
   ]
  },
  {
   "cell_type": "markdown",
   "metadata": {},
   "source": [
    "Q13. Compute the 2d histogram of x and y."
   ]
  },
  {
   "cell_type": "code",
   "execution_count": 21,
   "metadata": {
    "collapsed": false
   },
   "outputs": [
    {
     "name": "stdout",
     "output_type": "stream",
     "text": [
      "ans=\n",
      " [[ 3.  0.  0.  0.]\n",
      " [ 0.  2.  0.  0.]\n",
      " [ 0.  0.  1.  1.]]\n"
     ]
    },
    {
     "data": {
      "image/png": "[encoded data removed]",
      "text/plain": [
       "<matplotlib.figure.Figure at 0x85ce6a0>"
      ]
     },
     "metadata": {},
     "output_type": "display_data"
    }
   ],
   "source": [
    "xedges = [0, 1, 2, 3]\n",
    "yedges = [0, 1, 2, 3, 4]\n",
    "x = np.array([0, 0.1, 0.2, 1., 1.1, 2., 2.1])\n",
    "y = np.array([0, 0.1, 0.2, 1., 1.1, 2., 3.3])\n",
    "H, xedges, yedges = np.histogram2d(x, y, bins=(xedges, yedges))\n",
    "print(\"ans=\\n\", H)\n",
    "\n",
    "plt.scatter(x, y)\n",
    "plt.grid()"
   ]
  },
  {
   "cell_type": "markdown",
   "metadata": {},
   "source": [
    "Q14. Count number of occurrences of 0 through 7 in x."
   ]
  },
  {
   "cell_type": "code",
   "execution_count": 22,
   "metadata": {
    "collapsed": false
   },
   "outputs": [
    {
     "name": "stdout",
     "output_type": "stream",
     "text": [
      "ans=\n",
      " [1 3 1 1 0 0 0 1]\n"
     ]
    }
   ],
   "source": [
    "x = np.array([0, 1, 1, 3, 2, 1, 7])\n",
    "print(\"ans=\\n\", np.bincount(x))"
   ]
  },
  {
   "cell_type": "markdown",
   "metadata": {},
   "source": [
    "Q15. Return the indices of the bins to which each value in x belongs."
   ]
  },
  {
   "cell_type": "code",
   "execution_count": 23,
   "metadata": {
    "collapsed": false
   },
   "outputs": [
    {
     "name": "stdout",
     "output_type": "stream",
     "text": [
      "ans=\n",
      " [1 4 3 2]\n"
     ]
    }
   ],
   "source": [
    "x = np.array([0.2, 6.4, 3.0, 1.6])\n",
    "bins = np.array([0.0, 1.0, 2.5, 4.0, 10.0])\n",
    "\n",
    "print(\"ans=\\n\", np.digitize(x, bins))"
   ]
  },
  {
   "cell_type": "code",
   "execution_count": null,
   "metadata": {
    "collapsed": true
   },
   "outputs": [],
   "source": []
  }
 ],
 "metadata": {
  "anaconda-cloud": {},
  "kernelspec": {
   "display_name": "Python 3",
   "language": "python",
   "name": "python3"
  },
  "language_info": {
   "codemirror_mode": {
    "name": "ipython",
    "version": 3
   },
   "file_extension": ".py",
   "mimetype": "text/x-python",
   "name": "python",
   "nbconvert_exporter": "python",
   "pygments_lexer": "ipython3",
   "version": "3.6.0"
  }
 },
 "nbformat": 4,
 "nbformat_minor": 1
}
