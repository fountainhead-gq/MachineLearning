{
 "cells": [
  {
   "cell_type": "markdown",
   "metadata": {},
   "source": [
    "\n",
    "## Basics <a name=\"basics\"></a>\n",
    "\n",
    "One of the most commonly used functions of NumPy are *NumPy arrays*: The essential difference between *lists* and *NumPy arrays* is functionality and speed. *lists* give you basic operation, but *NumPy* adds FFTs, convolutions, fast searching, basic statistics, linear algebra, histograms, etc.</br>\n",
    "The most important difference for data science is the ability to do **element-wise calculations** with *NumPy arrays*.\n",
    "\n",
    "`axis 0` always refers to row </br>\n",
    "`axis 1` always refers to column\n",
    "\n",
    "| Operator     | Description   | Documentation |\n",
    "| :------------- | :------------- | :--------|\n",
    "|`np.array([1,2,3])`|1d array|[link](https://docs.scipy.org/doc/numpy/reference/generated/numpy.array.html#numpy.array)|\n",
    "|`np.array([(1,2,3),(4,5,6)])`|2d array|see above|\n",
    "|`np.arange(start,stop,step)`|range array|[link](https://docs.scipy.org/doc/numpy/reference/generated/numpy.arange.html)|\n",
    "\n",
    "### Placeholders <a name=\"place\"></a>\n",
    "| Operators | Description |Documentation|\n",
    "| :------------- | :------------- |:---------- |\n",
    "|`np.linspace(0,2,9)`|Add evenly spaced values btw interval to array of length |[link](https://docs.scipy.org/doc/numpy/reference/generated/numpy.linspace.html)|\n",
    "|`np.zeros((1,2))`|Create and array filled with zeros|[link](https://docs.scipy.org/doc/numpy/reference/generated/numpy.zeros.html)|\n",
    "|`np.ones((1,2))`|Creates an array filled with ones|[link](https://docs.scipy.org/doc/numpy/reference/generated/numpy.ones.html#numpy.ones)|\n",
    "|`np.random.random((5,5))`|Creates random array|[link](https://docs.scipy.org/doc/numpy/reference/generated/numpy.random.random.html)|\n",
    "|`np.empty((2,2))`|Creates an empty array|[link](https://docs.scipy.org/doc/numpy/reference/generated/numpy.empty.html)|\n",
    "\n",
    "\n",
    "\n",
    "</br>\n",
    "\n",
    "## Array <a name=\"arrays\"></a>\n",
    "### Array Properties <a name=\"props\"></a>\n",
    "|Syntax|Description|Documentation|\n",
    "|:-------------|:-------------|:-----------|\n",
    "|`array.shape`|Dimensions (Rows,Columns)|[link](https://docs.scipy.org/doc/numpy/reference/generated/numpy.ndarray.shape.html)|\n",
    "|`len(array)`|Length of Array|[link](https://docs.python.org/3.5/library/functions.html#len)|\n",
    "|`array.ndim`|Number of Array Dimensions|[link](https://docs.scipy.org/doc/numpy/reference/generated/numpy.ndarray.ndim.html)|\n",
    "|`array.size`|Number of Array Elements|[link](https://docs.scipy.org/doc/numpy/reference/generated/numpy.ndarray.size.html)|\n",
    "|`array.dtype`|Data Type|[link](https://docs.scipy.org/doc/numpy/reference/arrays.dtypes.html)|\n",
    "|`array.astype(type)`|Converts to Data Type|[link](https://docs.scipy.org/doc/numpy/reference/generated/numpy.ndarray.astype.html)|\n",
    "|`type(array)`|Type of Array|[link](https://docs.scipy.org/doc/numpy/user/basics.types.html)|\n",
    "\n",
    "### Copying/Sorting <a name=\"grops\"></a>\n",
    "| Operators | Descriptions     | Documentation |\n",
    "| :------------- | :------------- | :----------- |\n",
    "|`np.copy(array)`|Creates copy of array|[link](https://docs.scipy.org/doc/numpy/reference/generated/numpy.copy.html)|\n",
    "|`other = array.copy()`|Creates deep copy of array|see above|\n",
    "|`array.sort()`|Sorts an array|[link](https://docs.scipy.org/doc/numpy/reference/generated/numpy.sort.html)|\n",
    "|`array.sort(axis=0)`|Sorts axis of array|see above|\n",
    "\n",
    "\n",
    "\n",
    "## Array Manipulation Routines <a name=\"man\"></a>\n",
    "\n",
    "### Adding or Removing Elements <a name=\"addrem\"></a>\n",
    "|Operator|Description|Documentation|\n",
    "|:-----------|:--------|:---------|\n",
    "|`np.append(a,b)`|Append items to array|[link](https://docs.scipy.org/doc/numpy/reference/generated/numpy.append.html)|\n",
    "|`np.insert(array, 1, 2, axis)`|Insert items into array at axis 0 or 1|[link](https://docs.scipy.org/doc/numpy/reference/generated/numpy.insert.html)|\n",
    "|`array.resize((2,4))`|Resize array to shape(2,4)|[link](https://docs.scipy.org/doc/numpy/reference/generated/numpy.resize.html)|\n",
    "|`np.delete(array,1,axis)`|Deletes items from array|[link](https://docs.scipy.org/doc/numpy/reference/generated/numpy.delete.html)|\n",
    "\n",
    "\n",
    "\n",
    "### Combining Arrays <a name=\"comb\"></a>\n",
    "|Operator|Description|Documentation|\n",
    "|:---------|:-------|:---------|\n",
    "|`np.concatenate((a,b),axis=0)`|Concatenates 2 arrays, adds to end|[link](https://docs.scipy.org/doc/numpy/reference/generated/numpy.concatenate.html)|\n",
    "|`np.vstack((a,b))`|Stack array row-wise|[link](https://docs.scipy.org/doc/numpy/reference/generated/numpy.vstack.html)|\n",
    "|`np.hstack((a,b))`|Stack array column wise|[link](https://docs.scipy.org/doc/numpy/reference/generated/numpy.hstack.html#numpy.hstack)|\n",
    "\n",
    "\n",
    "\n",
    "### Splitting Arrays <a name=\"split\"></a>\n",
    "|Operator|Description|Documentation|\n",
    "|:---------|:-------|:------|\n",
    "|`numpy.split()`||[link](https://docs.scipy.org/doc/numpy/reference/generated/numpy.split.html)|\n",
    "|`np.array_split(array, 3)`|Split an array in sub-arrays of (nearly) identical size|[link](https://docs.scipy.org/doc/numpy/reference/generated/numpy.array_split.html#numpy.array_split)|\n",
    "|`numpy.hsplit(array, 3)`|Split the array horizontally at 3rd index|[link](https://docs.scipy.org/doc/numpy/reference/generated/numpy.hsplit.html#numpy.hsplit)|\n",
    "\n",
    "\n",
    "\n",
    "### More <a name=\"more\"></a>\n",
    "|Operator|Description|Documentation|\n",
    "|:--------|:--------|:--------|\n",
    "|`other = ndarray.flatten()`|Flattens a 2d array to 1d|[link](https://docs.scipy.org/doc/numpy/reference/generated/numpy.ndarray.flatten.html)|\n",
    "|`array = np.transpose(other)`</br> `array.T` |Transpose array|[link](https://docs.scipy.org/doc/numpy/reference/generated/numpy.transpose.html)|\n",
    "\n",
    "</br>\n",
    "\n",
    "## Mathematics <a name=\"maths\"></a>\n",
    "\n",
    "### Operations <a name=\"ops\"></a>\n",
    "| Operator | Description     |Documentation|\n",
    "| :------------- | :------------- |:---------|\n",
    "|`np.add(x,y)`<br/>`x + y`|Addition|[link](https://docs.scipy.org/doc/numpy/reference/generated/numpy.add.html)|\n",
    "|`np.substract(x,y)`<br/>`x - y`|Subtraction|[link](https://docs.scipy.org/doc/numpy/reference/generated/numpy.subtract.html#numpy.subtract)|\n",
    "|`np.divide(x,y)`<br/>`x / y`|Division|[link](https://docs.scipy.org/doc/numpy/reference/generated/numpy.divide.html#numpy.divide)|\n",
    "|`np.multiply(x,y)`<br/>`x @ y`|Multiplication|[link](https://docs.scipy.org/doc/numpy/reference/generated/numpy.multiply.html#numpy.multiply)|\n",
    "|`np.sqrt(x)`|Square Root|[link](https://docs.scipy.org/doc/numpy/reference/generated/numpy.sqrt.html#numpy.sqrt)|\n",
    "|`np.sin(x)`|Element-wise sine|[link](https://docs.scipy.org/doc/numpy/reference/generated/numpy.sin.html#numpy.sin)|\n",
    "|`np.cos(x)`|Element-wise cosine|[link](https://docs.scipy.org/doc/numpy/reference/generated/numpy.cos.html#numpy.cos)|\n",
    "|`np.log(x)`|Element-wise natural log|[link](https://docs.scipy.org/doc/numpy/reference/generated/numpy.log.html#numpy.log)|\n",
    "|`np.dot(x,y)`|Dot product|[link](https://docs.scipy.org/doc/numpy/reference/generated/numpy.dot.html)|\n",
    "\n",
    "Remember: NumPy array operations work element-wise.\n",
    "\n",
    "\n",
    "\n",
    "### Comparison\n",
    "| Operator | Description | Documentation |\n",
    "| :------------- | :------------- |:---------|\n",
    "|`==`|Equal|[link](https://docs.python.org/2/library/stdtypes.html)|\n",
    "|`!=`|Not equal|[link](https://docs.python.org/2/library/stdtypes.html)|\n",
    "|`<`|Smaller than|[link](https://docs.python.org/2/library/stdtypes.html)|\n",
    "|`>`|Greater than|[link](https://docs.python.org/2/library/stdtypes.html)|\n",
    "|`<=`|Smaller than or equal|[link](https://docs.python.org/2/library/stdtypes.html)|\n",
    "|`>=`|Greater than or equal|[link](https://docs.python.org/2/library/stdtypes.html)|\n",
    "|`np.array_equal(x,y)`|Array-wise comparison|[link](https://docs.scipy.org/doc/numpy/reference/generated/numpy.array_equal.html)|\n",
    "\n",
    "\n",
    "### Basic Statistics <a name=\"stats\"></a>\n",
    "| Operator | Description    | Documentation |\n",
    "| :------------- | :------------- |:--------- |\n",
    "|`np.mean(array)`|Mean|[link](https://docs.scipy.org/doc/numpy/reference/generated/numpy.mean.html#numpy.mean)|\n",
    "|`np.median(array)`|Median|[link](https://docs.scipy.org/doc/numpy/reference/generated/numpy.median.html#numpy.median)|\n",
    "|`array.corrcoef()`|Correlation Coefficient|[link](https://docs.scipy.org/doc/numpy/reference/generated/numpy.corrcoef.html#numpy.corrcoef)|\n",
    "|`array.std(array)`|Standard Deviation|[link](https://docs.scipy.org/doc/numpy/reference/generated/numpy.std.html#numpy.std)|\n",
    "\n",
    "\n",
    "\n",
    "\n",
    "### More <a name=\"more\"></a>\n",
    "| Operator | Description    | Documentation |\n",
    "| :------------- | :------------- |:--------- |\n",
    "|`array.sum()`|Array-wise sum|[link](https://docs.scipy.org/doc/numpy/reference/generated/numpy.sum.html)|\n",
    "|`array.min()`|Array-wise minimum value|[link](https://docs.scipy.org/doc/numpy/reference/generated/numpy.ndarray.min.html)|\n",
    "|`array.max(axis=0)`|Maximum value of specified axis||\n",
    "|`array.cumsum(axis=0)`|Cumulative sum of specified axis|[link](https://docs.scipy.org/doc/numpy/reference/generated/numpy.cumsum.html)|\n",
    "\n",
    "</br>\n",
    "\n",
    "## Slicing and Subsetting <a name=\"ss\"></a>\n",
    "|Operator|Description|Documentation|\n",
    "| :------------- | :------------- | :------------- |\n",
    "|`array[i]`|1d array at index i|[link](https://docs.scipy.org/doc/numpy/reference/arrays.indexing.html)|\n",
    "|`array[i,j]`|2d array at index[i][j]|see above|\n",
    "|`array[i<4]`|Boolean Indexing, see [Tricks](#tricks)|see above|\n",
    "|`array[0:3]`|Select items of index 0, 1 and 2|see above|\n",
    "|`array[0:2,1]`|Select items of rows 0 and 1 at column 1|see above|\n",
    "|`array[:1]`|Select items of row 0 (equals array[0:1, :])|see above|\n",
    "|`array[1:2, :]`|Select items of row 1|see above|\n",
    "|`array[ : :-1]`|Reverses `array`|see above|\n",
    "\n"
   ]
  },
  {
   "cell_type": "code",
   "execution_count": 1,
   "metadata": {
    "collapsed": false
   },
   "outputs": [
    {
     "name": "stdout",
     "output_type": "stream",
     "text": [
      "[6 8 6 9]\n",
      "[1 2 3 4 4]\n"
     ]
    }
   ],
   "source": [
    "# THIS IS AN UNSTRUCTURED TEST FILE\n",
    "import numpy as np\n",
    "\n",
    "# Index trick when working with two np-arrays\n",
    "a = np.array([1, 2, 3, 6, 1, 4, 1])\n",
    "b = np.array([5, 6, 7, 8, 3, 1, 2])\n",
    "\n",
    "# Only saves a at index where b == 1\n",
    "other_a = a[b == 1]\n",
    "# Saves every spot in a except at index where b != 1\n",
    "other_other_a = a[b != 1]\n",
    "\n",
    "# BOOLEAN INDEXING\n",
    "x = np.array([4, 6, 8, 1, 2, 6, 9])\n",
    "y = x > 5\n",
    "print(x[y])\n",
    "\n",
    "\n",
    "# Even shorter\n",
    "x = np.array([1, 2, 3, 4, 4, 35, 212, 5, 5, 6])\n",
    "print(x[x < 5])\n"
   ]
  },
  {
   "cell_type": "code",
   "execution_count": 2,
   "metadata": {
    "collapsed": false
   },
   "outputs": [
    {
     "name": "stdout",
     "output_type": "stream",
     "text": [
      "[3]\n",
      "[3 6]\n",
      "[1 2 3]\n",
      "[3]\n",
      "[1 4]\n",
      "[[4 5]]\n"
     ]
    }
   ],
   "source": [
    "b = np.array([(1, 2, 3), (4, 5, 6)])\n",
    "\n",
    "# The index *before* the comma refers to *rows*,\n",
    "# the index *after* the comma refers to *columns*\n",
    "print(b[0:1, 2])\n",
    "\n",
    "print(b[:len(b), 2])\n",
    "\n",
    "print(b[0, :])\n",
    "\n",
    "print(b[0, 2:])\n",
    "\n",
    "print(b[:, 0])\n",
    "\n",
    "\n",
    "c = np.array([(1, 2, 3), (4, 5, 6)])\n",
    "d = c[1:2, 0:2]\n",
    "print(d)\n"
   ]
  },
  {
   "cell_type": "code",
   "execution_count": 6,
   "metadata": {
    "collapsed": false
   },
   "outputs": [
    {
     "name": "stdout",
     "output_type": "stream",
     "text": [
      "[1 2 3]\n",
      "[[1 2 3]\n",
      " [4 5 6]]\n",
      "[0 1 2]\n",
      "[ 0.  1.  2.]\n",
      "[3 4 5 6]\n",
      "[3 5]\n"
     ]
    }
   ],
   "source": [
    "# 1 dimensional\n",
    "x = np.array([1,2,3])\n",
    "print(x)\n",
    "# 2 dimensional\n",
    "y = np.array([(1,2,3),(4,5,6)])\n",
    "print(y)\n",
    "\n",
    "x = np.arange(3)\n",
    "print(x)\n",
    "\n",
    "y = np.arange(3.0)\n",
    "print(y)\n",
    "\n",
    "x = np.arange(3,7)\n",
    "print(x)\n",
    "\n",
    "y = np.arange(3,7,2)\n",
    "print(y)"
   ]
  },
  {
   "cell_type": "code",
   "execution_count": 7,
   "metadata": {
    "collapsed": false
   },
   "outputs": [
    {
     "name": "stdout",
     "output_type": "stream",
     "text": [
      "[ 1  2  3  4  5  6  7  8  9 10]\n"
     ]
    }
   ],
   "source": [
    "y = np.array([10, 9, 8, 7, 6, 5, 4, 3, 2, 1])\n",
    "y.sort()\n",
    "print(y)\n"
   ]
  },
  {
   "cell_type": "code",
   "execution_count": 8,
   "metadata": {
    "collapsed": false
   },
   "outputs": [
    {
     "name": "stdout",
     "output_type": "stream",
     "text": [
      "[1 2 3 4 5 6 7 8 9]\n",
      "[1 2 4 5 6 7 8 9]\n"
     ]
    }
   ],
   "source": [
    "# Append items to array\n",
    "a = np.array([(1, 2, 3),(4, 5, 6)])\n",
    "b = np.append(a, [(7, 8, 9)])\n",
    "print(b)\n",
    "\n",
    "# Remove index 2 from previous array\n",
    "print(np.delete(b, 2))"
   ]
  },
  {
   "cell_type": "code",
   "execution_count": 9,
   "metadata": {
    "collapsed": false
   },
   "outputs": [
    {
     "name": "stdout",
     "output_type": "stream",
     "text": [
      "[[1 3 5]\n",
      " [2 4 6]]\n",
      "[1 3 5 2 4 6]\n"
     ]
    }
   ],
   "source": [
    "a = np.array([1, 3, 5])\n",
    "b = np.array([2, 4, 6])\n",
    "\n",
    "# Stack two arrays row-wise\n",
    "print(np.vstack((a,b)))\n",
    "\n",
    "# Stack two arrays column-wise\n",
    "print(np.hstack((a,b)))"
   ]
  },
  {
   "cell_type": "code",
   "execution_count": 10,
   "metadata": {
    "collapsed": false
   },
   "outputs": [
    {
     "name": "stdout",
     "output_type": "stream",
     "text": [
      "[array([1, 2, 3]), array([4, 5, 6]), array([7, 8])]\n"
     ]
    }
   ],
   "source": [
    "# Split array into groups of ~3\n",
    "a = np.array([1, 2, 3, 4, 5, 6, 7, 8])\n",
    "print(np.array_split(a, 3))"
   ]
  },
  {
   "cell_type": "code",
   "execution_count": 11,
   "metadata": {
    "collapsed": false
   },
   "outputs": [
    {
     "name": "stdout",
     "output_type": "stream",
     "text": [
      "[[2 4 6]\n",
      " [5 7 9]]\n"
     ]
    }
   ],
   "source": [
    "# If a 1d array is added to a 2d array (or the other way), NumPy\n",
    "# chooses the array with smaller dimension and adds it to the one\n",
    "# with bigger dimension\n",
    "a = np.array([1, 2, 3])\n",
    "b = np.array([(1, 2, 3), (4, 5, 6)])\n",
    "print(np.add(a, b))"
   ]
  },
  {
   "cell_type": "code",
   "execution_count": 12,
   "metadata": {
    "collapsed": false
   },
   "outputs": [
    {
     "name": "stdout",
     "output_type": "stream",
     "text": [
      "[ True  True  True  True  True False False False False False]\n"
     ]
    }
   ],
   "source": [
    "# Using comparison operators will create boolean NumPy arrays\n",
    "z = np.array([1, 2, 3, 4, 5, 6, 7, 8, 9, 10])\n",
    "c = z < 6\n",
    "print(c)"
   ]
  },
  {
   "cell_type": "code",
   "execution_count": 13,
   "metadata": {
    "collapsed": false
   },
   "outputs": [
    {
     "name": "stdout",
     "output_type": "stream",
     "text": [
      "4.29389100933\n",
      "6.5\n"
     ]
    }
   ],
   "source": [
    "# Statistics of an array\n",
    "a = np.array([1, 1, 2, 5, 8, 10, 11, 12])\n",
    "\n",
    "# Standard deviation\n",
    "print(np.std(a))\n",
    "\n",
    "# Median\n",
    "print(np.median(a))"
   ]
  },
  {
   "cell_type": "code",
   "execution_count": 15,
   "metadata": {
    "collapsed": false
   },
   "outputs": [
    {
     "name": "stdout",
     "output_type": "stream",
     "text": [
      "[ 2.    2.25  2.5   2.75  3.  ]\n",
      "[ 2.   2.2  2.4  2.6  2.8]\n",
      "(array([ 2.  ,  2.25,  2.5 ,  2.75,  3.  ]), 0.25)\n"
     ]
    }
   ],
   "source": [
    "print(np.linspace(2.0, 3.0, num=5))\n",
    "print(np.linspace(2.0, 3.0, num=5, endpoint=False))\n",
    "print(np.linspace(2.0, 3.0, num=5, retstep=True))"
   ]
  },
  {
   "cell_type": "code",
   "execution_count": 16,
   "metadata": {
    "collapsed": false
   },
   "outputs": [
    {
     "data": {
      "image/png": "[encoded data removed]",
      "text/plain": [
       "<matplotlib.figure.Figure at 0x4c36278>"
      ]
     },
     "metadata": {},
     "output_type": "display_data"
    }
   ],
   "source": [
    "import matplotlib.pyplot as plt\n",
    "N = 8\n",
    "y = np.zeros(N)\n",
    "x1 = np.linspace(0, 10, N, endpoint=True)\n",
    "x2 = np.linspace(0, 10, N, endpoint=False)\n",
    "plt.plot(x1, y, 'o')\n",
    "plt.plot(x2, y + 0.5, 'o')\n",
    "plt.ylim([-0.5, 1])\n",
    "plt.show()"
   ]
  },
  {
   "cell_type": "code",
   "execution_count": 21,
   "metadata": {
    "collapsed": false
   },
   "outputs": [
    {
     "name": "stdout",
     "output_type": "stream",
     "text": [
      "0.3055438269354148\n",
      "<class 'float'>\n",
      "[[ 0.84545134  0.08252127]\n",
      " [ 0.85040691  0.43771706]\n",
      " [ 0.21115523  0.73120989]\n",
      " [ 0.37434771  0.58518629]\n",
      " [ 0.05646624  0.19477947]]\n"
     ]
    }
   ],
   "source": [
    "print(np.random.random_sample())\n",
    "print(type(np.random.random_sample()))\n",
    "print(np.random.random_sample((5,2)))\n"
   ]
  },
  {
   "cell_type": "code",
   "execution_count": null,
   "metadata": {
    "collapsed": true
   },
   "outputs": [],
   "source": []
  }
 ],
 "metadata": {
  "kernelspec": {
   "display_name": "Python 3",
   "language": "python",
   "name": "python3"
  },
  "language_info": {
   "codemirror_mode": {
    "name": "ipython",
    "version": 3
   },
   "file_extension": ".py",
   "mimetype": "text/x-python",
   "name": "python",
   "nbconvert_exporter": "python",
   "pygments_lexer": "ipython3",
   "version": "3.6.0"
  }
 },
 "nbformat": 4,
 "nbformat_minor": 2
}
