{
 "cells": [
  {
   "cell_type": "markdown",
   "metadata": {},
   "source": [
    "# Random Sampling"
   ]
  },
  {
   "cell_type": "code",
   "execution_count": 5,
   "metadata": {
    "collapsed": true
   },
   "outputs": [],
   "source": [
    "import numpy as np"
   ]
  },
  {
   "cell_type": "code",
   "execution_count": 6,
   "metadata": {
    "collapsed": false
   },
   "outputs": [
    {
     "data": {
      "text/plain": [
       "'1.11.3'"
      ]
     },
     "execution_count": 6,
     "metadata": {},
     "output_type": "execute_result"
    }
   ],
   "source": [
    "np.__version__"
   ]
  },
  {
   "cell_type": "markdown",
   "metadata": {},
   "source": [
    "## Simple random data"
   ]
  },
  {
   "cell_type": "markdown",
   "metadata": {},
   "source": [
    "Q1. Create an array of shape (3, 2) and populate it with random samples from a uniform distribution over [0, 1)."
   ]
  },
  {
   "cell_type": "code",
   "execution_count": 7,
   "metadata": {
    "collapsed": false
   },
   "outputs": [
    {
     "data": {
      "text/plain": [
       "array([[ 0.65418932,  0.97912889],\n",
       "       [ 0.54960919,  0.83502809],\n",
       "       [ 0.25512339,  0.75876139]])"
      ]
     },
     "execution_count": 7,
     "metadata": {},
     "output_type": "execute_result"
    }
   ],
   "source": [
    "np.random.rand(3, 2) \n",
    "# Or np.random.random((3,2))"
   ]
  },
  {
   "cell_type": "markdown",
   "metadata": {},
   "source": [
    "Q2. Create an array of shape (1000, 1000) and populate it with random samples from a standard normal distribution. And verify that the mean and standard deviation is close enough to 0 and 1 repectively."
   ]
  },
  {
   "cell_type": "code",
   "execution_count": 12,
   "metadata": {
    "collapsed": false
   },
   "outputs": [
    {
     "name": "stdout",
     "output_type": "stream",
     "text": [
      "[[-1.29236952  0.04129148 -1.69869293  1.5718343   0.49669525 -0.1569267\n",
      "  -1.36188261 -1.6169303  -1.10825736  0.5705701 ]\n",
      " [ 0.50835647  2.86819968 -1.16125631 -0.20404195  1.60731563  1.53199637\n",
      "   1.01214076 -0.04363243 -0.36317833  0.29721914]\n",
      " [ 1.18134501 -0.0513677  -2.40120045  1.85758177  0.68903984 -0.72162154\n",
      "   0.62074949  0.40224472 -0.27322579  0.02884212]\n",
      " [ 0.65582948  0.45104034  1.07743216  0.37547632  0.06782311  0.04943081\n",
      "  -1.72487578  0.82270647  0.72952387 -1.71530727]\n",
      " [-0.57565708 -0.86956254 -0.97539515 -0.14966595 -0.79113551 -1.06485673\n",
      "   0.89881277 -0.25169702 -0.72037603  0.17923136]\n",
      " [ 0.4319445   0.74411926  1.72568107 -1.23257547 -2.0416609  -1.27575335\n",
      "   0.25120808 -1.02490524  1.02409335  1.63035964]\n",
      " [-2.06176041  0.55453684  0.44751097 -2.28430447  0.30305618  0.03558736\n",
      "  -1.8529858   0.15371255 -0.80789704  0.18989038]\n",
      " [ 0.28461226  0.78372223  2.04947398  0.64151445  0.31074346 -0.6582112\n",
      "  -0.49316645 -0.21001126  0.17584374 -0.95826188]\n",
      " [ 0.3389365   1.83380241 -0.14885469 -0.04206491 -1.12196908 -0.24867566\n",
      "   0.93520956  0.86891561 -0.35107783 -0.57596302]\n",
      " [ 0.87201908 -0.0995188  -0.80106983  0.56747231 -0.74261525 -0.80312149\n",
      "   0.03220705 -0.05190326  1.20902382  2.40307854]]\n",
      "\n",
      "[[-2.78070666  0.43056587  1.55418368 -0.61712437 -0.05936055 -1.36460236\n",
      "  -0.33932417  0.91833101 -1.16218154 -0.64490903]\n",
      " [-0.54915332  0.69373922 -0.53625973 -0.13957115 -1.37244186  1.15493868\n",
      "   0.63904484  0.03645665  0.02648546 -0.40854147]\n",
      " [-0.2894396  -1.0026022  -0.34894782 -1.09049228  0.16859595  0.24970268\n",
      "  -0.53331762  1.82283806  0.2305432   1.29659579]\n",
      " [-1.19795281  1.32615369 -0.7396183   0.37221522 -1.72525602 -0.20701493\n",
      "  -0.06862065  0.39548794  0.96535799 -1.23181338]\n",
      " [ 0.31564693 -0.41669876 -1.4848524  -0.94569131 -0.39729744  1.35861059\n",
      "   1.05534073  1.06834817  0.44787283 -1.7662462 ]\n",
      " [ 0.09053298  0.09337995 -0.60731829  0.03425438  0.77950019  0.1988622\n",
      "  -0.76049551  0.93273435  0.31272072 -1.40133286]\n",
      " [ 0.73754427  0.50484531  1.00698301  0.87059161  0.44952564  1.49833463\n",
      "  -1.05025356  0.14414191 -0.11805215  0.96561254]\n",
      " [-1.07528397  0.17806705  0.14964167 -0.66168817  0.91354025  0.7473225\n",
      "  -0.47734408  0.1234318  -0.82149982  1.55668943]\n",
      " [ 0.27415713  0.79174906 -1.46100988 -0.32705422  0.97014859 -1.63229971\n",
      "   0.00414351 -0.10505744 -0.32069588  1.15454227]\n",
      " [-0.02419463 -0.92225458  1.82721184 -0.91292155 -0.47574384  0.48566027\n",
      "  -0.18844701  1.65503087 -1.30668639  0.81837815]]\n",
      "\n",
      "[[-1.43733504  1.37209827 -0.00735605  0.01520548 -0.24626306 -0.24565486\n",
      "  -0.84524986  2.43875354 -1.58243349  0.15332887]\n",
      " [ 0.07461469 -0.88975282  0.42551418  0.18812796  0.45715878 -0.428006\n",
      "  -1.18893118 -0.23385889  2.00834961  0.48837131]\n",
      " [-0.65085013 -1.40041956 -0.97674354  2.06392508  0.82802119  1.29300391\n",
      "  -0.46884537 -0.14533216  0.44532774 -0.47024973]\n",
      " [ 1.22513249  1.62363499  0.96815248  0.31964811 -0.69004836  1.12875075\n",
      "   1.65917056  0.44249874  0.95275267 -1.22189627]\n",
      " [-0.60608792 -1.89745445  2.07417124 -1.06103682 -1.045577   -0.11320883\n",
      "   1.24933925  0.29520317  1.25689077  1.47657831]\n",
      " [ 0.51667329  0.86681632  0.40237457 -0.88059256  1.84899627  0.45771707\n",
      "   0.95640496  0.47238927  0.90285552 -0.09188962]\n",
      " [ 1.86370009  1.45564655 -0.02278408 -0.47725184  0.28739323  0.00265277\n",
      "   0.15048678 -1.09810165 -0.62550756  1.02969539]\n",
      " [-0.00394079 -0.02738675  1.11084118  0.27772594 -0.94852965  0.3364703\n",
      "  -0.27230093  1.27544548  0.40207905  1.99377686]\n",
      " [ 0.09513012  1.28047442 -1.50603567 -0.11425775 -0.64246878  0.0580074\n",
      "  -0.13626168  0.04099642 -0.5588793  -1.0727015 ]\n",
      " [-0.1371804  -1.21939233  1.17417565 -0.35866305  0.5070845  -0.21429182\n",
      "  -0.13996667  0.06584164 -0.59056644  1.08089212]]\n",
      "0.188449250894\n",
      "1.04947585263\n"
     ]
    }
   ],
   "source": [
    "out1 = np.random.randn(10, 10)\n",
    "out2 = np.random.standard_normal((10, 10))\n",
    "out3 = np.random.normal(loc=0.0, scale=1.0, size=(10, 10))\n",
    "print(out1)\n",
    "print()\n",
    "print(out2)\n",
    "print()\n",
    "print(out3)\n",
    "print(np.mean(out3)) \n",
    "print (np.std(out1))\n"
   ]
  },
  {
   "cell_type": "markdown",
   "metadata": {},
   "source": [
    "Q3. Create an array of shape (3, 2) and populate it with random integers ranging from 0 to 3 (inclusive) from a discrete uniform distribution."
   ]
  },
  {
   "cell_type": "code",
   "execution_count": 13,
   "metadata": {
    "collapsed": false
   },
   "outputs": [
    {
     "data": {
      "text/plain": [
       "array([[1, 2],\n",
       "       [0, 0],\n",
       "       [0, 3]])"
      ]
     },
     "execution_count": 13,
     "metadata": {},
     "output_type": "execute_result"
    }
   ],
   "source": [
    "np.random.randint(0, 4, (3, 2))"
   ]
  },
  {
   "cell_type": "markdown",
   "metadata": {},
   "source": [
    "Q4. Extract 1 elements from x randomly such that each of them would be associated with probabilities .3, .5, .2. Then print the result 10 times."
   ]
  },
  {
   "cell_type": "code",
   "execution_count": 14,
   "metadata": {
    "collapsed": true
   },
   "outputs": [],
   "source": [
    "x = [b'3 out of 10', b'5 out of 10', b'2 out of 10']"
   ]
  },
  {
   "cell_type": "code",
   "execution_count": 15,
   "metadata": {
    "collapsed": false
   },
   "outputs": [
    {
     "name": "stdout",
     "output_type": "stream",
     "text": [
      "b'5 out of 10'\n",
      "b'5 out of 10'\n",
      "b'3 out of 10'\n",
      "b'5 out of 10'\n",
      "b'2 out of 10'\n",
      "b'5 out of 10'\n",
      "b'5 out of 10'\n",
      "b'5 out of 10'\n",
      "b'2 out of 10'\n",
      "b'2 out of 10'\n"
     ]
    }
   ],
   "source": [
    "for _ in range(10):\n",
    "    print (np.random.choice(x, p=[.3, .5, .2]))"
   ]
  },
  {
   "cell_type": "markdown",
   "metadata": {},
   "source": [
    "Q5. Extract 3 different integers from 0 to 9 randomly with the same probabilities."
   ]
  },
  {
   "cell_type": "code",
   "execution_count": 16,
   "metadata": {
    "collapsed": false
   },
   "outputs": [
    {
     "data": {
      "text/plain": [
       "array([5, 1, 8])"
      ]
     },
     "execution_count": 16,
     "metadata": {},
     "output_type": "execute_result"
    }
   ],
   "source": [
    "np.random.choice(10, 3, replace=False)"
   ]
  },
  {
   "cell_type": "markdown",
   "metadata": {},
   "source": [
    "## Permutations"
   ]
  },
  {
   "cell_type": "markdown",
   "metadata": {},
   "source": [
    "Q6. Shuffle numbers between 0 and 9 (inclusive)."
   ]
  },
  {
   "cell_type": "code",
   "execution_count": 17,
   "metadata": {
    "collapsed": false
   },
   "outputs": [
    {
     "name": "stdout",
     "output_type": "stream",
     "text": [
      "[9 6 1 7 8 2 3 5 4 0]\n"
     ]
    }
   ],
   "source": [
    "x = np.arange(10)\n",
    "np.random.shuffle(x)\n",
    "print (x)"
   ]
  },
  {
   "cell_type": "code",
   "execution_count": 18,
   "metadata": {
    "collapsed": false
   },
   "outputs": [
    {
     "name": "stdout",
     "output_type": "stream",
     "text": [
      "[1 2 9 7 6 0 4 3 8 5]\n"
     ]
    }
   ],
   "source": [
    "# Or\n",
    "print (np.random.permutation(10))"
   ]
  },
  {
   "cell_type": "markdown",
   "metadata": {},
   "source": [
    "## Random generator"
   ]
  },
  {
   "cell_type": "markdown",
   "metadata": {},
   "source": [
    "Q7. Assign number 10 to the seed of the random generator so that you can get the same value next time."
   ]
  },
  {
   "cell_type": "code",
   "execution_count": 21,
   "metadata": {
    "collapsed": false
   },
   "outputs": [
    {
     "name": "stdout",
     "output_type": "stream",
     "text": [
      "None\n"
     ]
    }
   ],
   "source": [
    "print(np.random.seed(10))"
   ]
  },
  {
   "cell_type": "code",
   "execution_count": null,
   "metadata": {
    "collapsed": true
   },
   "outputs": [],
   "source": []
  }
 ],
 "metadata": {
  "kernelspec": {
   "display_name": "Python 3",
   "language": "python",
   "name": "python3"
  },
  "language_info": {
   "codemirror_mode": {
    "name": "ipython",
    "version": 3
   },
   "file_extension": ".py",
   "mimetype": "text/x-python",
   "name": "python",
   "nbconvert_exporter": "python",
   "pygments_lexer": "ipython3",
   "version": "3.6.0"
  }
 },
 "nbformat": 4,
 "nbformat_minor": 0
}
