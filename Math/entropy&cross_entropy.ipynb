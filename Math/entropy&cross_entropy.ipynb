{
 "cells": [
  {
   "cell_type": "markdown",
   "metadata": {},
   "source": [
    "# 熵\n",
    "\n",
    "$H(x)=-\\sum{p(x_i)log(p(x_i))}$"
   ]
  },
  {
   "cell_type": "code",
   "execution_count": 8,
   "metadata": {},
   "outputs": [
    {
     "data": {
      "text/plain": [
       "1.75"
      ]
     },
     "execution_count": 8,
     "metadata": {},
     "output_type": "execute_result"
    }
   ],
   "source": [
    "import math\n",
    "\n",
    "def entropy(p_seq):\n",
    "    return -sum(p*math.log(p)/math.log(2) for p in p_seq if p>0)\n",
    "\n",
    "entropy([1/4,1/2,1/8,1/8])\n"
   ]
  },
  {
   "cell_type": "markdown",
   "metadata": {},
   "source": [
    "## 交叉熵\n",
    "\n",
    "$H(p,q)=-\\sum_ip_i\\text{log}q_i$"
   ]
  },
  {
   "cell_type": "code",
   "execution_count": 9,
   "metadata": {},
   "outputs": [
    {
     "name": "stdout",
     "output_type": "stream",
     "text": [
      "cross entropy of q with respect to p: 2.25\n",
      "cross entropy of p with respect to q: 2.0\n"
     ]
    }
   ],
   "source": [
    "def cross_entropy(p_seq, q_seq):\n",
    "    return -sum(q* math.log(p)/math.log(2) for (p,q) in zip(p_seq,q_seq) if p>0)\n",
    "\n",
    "p_seq=[1/4,1/8,1/2,1/8]\n",
    "q_seq=[1/4,1/4,1/4,1/4]\n",
    "\n",
    "print('cross entropy of q with respect to p:',cross_entropy(p_seq,q_seq))\n",
    "print('cross entropy of p with respect to q:',cross_entropy(q_seq,p_seq))"
   ]
  },
  {
   "cell_type": "markdown",
   "metadata": {},
   "source": [
    "## 相对熵(KL散度)\n",
    "\n",
    "\n",
    "$D(p||q)=\\sum_ip_i\\text{log}\\frac{p_i}{q_i}$\n",
    "\n",
    "\n",
    "\n",
    "关于$H(p,q)$的推导:\n",
    "\n",
    "$\n",
    "\\begin{align*}\n",
    "H(p,q)=&-\\sum_ip_i\\log q_i\\\\\n",
    "=&-\\sum_ip_i\\log(p_i\\cdot\\frac{q_i}{p_i})\\\\\n",
    "=&-\\sum_i(p_i\\log p_i-p_i\\log \\frac{p_i}{q_i})\\\\\n",
    "=&H(p)+D(p||q)\n",
    "\\end{align*}\n",
    "$"
   ]
  },
  {
   "cell_type": "code",
   "execution_count": null,
   "metadata": {
    "collapsed": true
   },
   "outputs": [],
   "source": []
  }
 ],
 "metadata": {
  "kernelspec": {
   "display_name": "python3.5",
   "language": "python",
   "name": "python3.5"
  },
  "language_info": {
   "codemirror_mode": {
    "name": "ipython",
    "version": 3
   },
   "file_extension": ".py",
   "mimetype": "text/x-python",
   "name": "python",
   "nbconvert_exporter": "python",
   "pygments_lexer": "ipython3",
   "version": "3.5.3"
  },
  "latex_envs": {
   "LaTeX_envs_menu_present": true,
   "autocomplete": true,
   "bibliofile": "biblio.bib",
   "cite_by": "apalike",
   "current_citInitial": 1,
   "eqLabelWithNumbers": true,
   "eqNumInitial": 1,
   "hotkeys": {
    "equation": "Ctrl-E",
    "itemize": "Ctrl-I"
   },
   "labels_anchors": false,
   "latex_user_defs": false,
   "report_style_numbering": false,
   "user_envs_cfg": false
  }
 },
 "nbformat": 4,
 "nbformat_minor": 2
}
