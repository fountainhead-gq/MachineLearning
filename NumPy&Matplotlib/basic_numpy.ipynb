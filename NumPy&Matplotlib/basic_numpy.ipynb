{
 "cells": [
  {
   "cell_type": "code",
   "execution_count": 1,
   "metadata": {
    "collapsed": false
   },
   "outputs": [
    {
     "name": "stdout",
     "output_type": "stream",
     "text": [
      "1.11.3\n",
      "[ 0  1  2  3  4  5  6  7  8  9 10 11 12 13 14 15 16 17 18 19]\n",
      "[[ 0  1  2  3  4]\n",
      " [ 5  6  7  8  9]\n",
      " [10 11 12 13 14]\n",
      " [15 16 17 18 19]]\n",
      "[[[ 0  1  2  3  4]\n",
      "  [ 5  6  7  8  9]]\n",
      "\n",
      " [[10 11 12 13 14]\n",
      "  [15 16 17 18 19]]]\n"
     ]
    }
   ],
   "source": [
    "import numpy as np\n",
    "print(np.version.full_version)  # NumPy版本\n",
    "\n",
    "a = np.arange(20)  # 一维数组a，从0开始，步长为1，长度为20\n",
    "b = a.reshape(4, 5) # 构造4*5的二维数组，其中reshape的参数表示各维度的大小，且按各维顺序排列\n",
    "\n",
    "print(a)\n",
    "print(b)\n",
    "\n",
    "a = a.reshape(2, 2, 5)\n",
    "print(a)"
   ]
  },
  {
   "cell_type": "code",
   "execution_count": 2,
   "metadata": {
    "collapsed": false
   },
   "outputs": [
    {
     "name": "stdout",
     "output_type": "stream",
     "text": [
      "3\n",
      "(2, 2, 5)\n",
      "20\n"
     ]
    }
   ],
   "source": [
    "# ndim查看维度；shape查看各维度的大小；size查看全部的元素个数，等于各维度大小的乘积；dtype可查看元素类型\n",
    "print(a.ndim)\n",
    "print(a.shape)\n",
    "print(a.size)\n"
   ]
  },
  {
   "cell_type": "code",
   "execution_count": 3,
   "metadata": {
    "collapsed": false
   },
   "outputs": [
    {
     "name": "stdout",
     "output_type": "stream",
     "text": [
      "[0 1 2 3 4]\n",
      "[[0 1 2 3 4]\n",
      " [5 6 7 8 9]]\n"
     ]
    }
   ],
   "source": [
    "# 数组的创建可通过转换列表实现\n",
    "raw = [0,1,2,3,4]\n",
    "a = np.array(raw)\n",
    "print(a)\n",
    "\n",
    "raw = [[0,1,2,3,4], [5,6,7,8,9]]\n",
    "b = np.array(raw)\n",
    "print(b)"
   ]
  },
  {
   "cell_type": "code",
   "execution_count": 4,
   "metadata": {
    "collapsed": false
   },
   "outputs": [
    {
     "data": {
      "text/plain": [
       "array([[ 0.,  0.,  0.,  0.,  0.],\n",
       "       [ 0.,  0.,  0.,  0.,  0.],\n",
       "       [ 0.,  0.,  0.,  0.,  0.],\n",
       "       [ 0.,  0.,  0.,  0.,  0.]])"
      ]
     },
     "execution_count": 4,
     "metadata": {},
     "output_type": "execute_result"
    }
   ],
   "source": [
    "# 4*5的全零矩阵\n",
    "d = (4, 5)\n",
    "np.zeros(d)"
   ]
  },
  {
   "cell_type": "code",
   "execution_count": 5,
   "metadata": {
    "collapsed": false
   },
   "outputs": [
    {
     "data": {
      "text/plain": [
       "array([[1, 1, 1, 1, 1],\n",
       "       [1, 1, 1, 1, 1],\n",
       "       [1, 1, 1, 1, 1],\n",
       "       [1, 1, 1, 1, 1]])"
      ]
     },
     "execution_count": 5,
     "metadata": {},
     "output_type": "execute_result"
    }
   ],
   "source": [
    "# 指定类型改为整型\n",
    "d = (4, 5)\n",
    "np.ones(d, dtype=int)"
   ]
  },
  {
   "cell_type": "code",
   "execution_count": 6,
   "metadata": {
    "collapsed": false
   },
   "outputs": [
    {
     "data": {
      "text/plain": [
       "array([ 0.13746355,  0.68537943,  0.89973015,  0.97209753,  0.33914642])"
      ]
     },
     "execution_count": 6,
     "metadata": {},
     "output_type": "execute_result"
    }
   ],
   "source": [
    "# [0, 1)区间的随机数数组：\n",
    "np.random.rand(5)"
   ]
  },
  {
   "cell_type": "code",
   "execution_count": 8,
   "metadata": {
    "collapsed": false
   },
   "outputs": [
    {
     "name": "stdout",
     "output_type": "stream",
     "text": [
      "[[ 1.  2.]\n",
      " [ 2.  4.]]\n",
      "[[ 3.2  1.5]\n",
      " [ 2.5  4. ]]\n",
      "[[ 4.2  3.5]\n",
      " [ 4.5  8. ]]\n",
      "[[ 2.  4.]\n",
      " [ 4.  8.]]\n",
      "[[ 5.2  3.5]\n",
      " [ 4.5  6. ]]\n"
     ]
    }
   ],
   "source": [
    "# 四则运算\n",
    "a = np.array([[1.0, 2], [2, 4]])\n",
    "print(a)\n",
    "b = np.array([[3.2, 1.5], [2.5, 4]])\n",
    "print(b)\n",
    "print(a + b)\n",
    "print(a * 2)\n",
    "print(2 + b)"
   ]
  },
  {
   "cell_type": "code",
   "execution_count": 9,
   "metadata": {
    "collapsed": false
   },
   "outputs": [
    {
     "name": "stdout",
     "output_type": "stream",
     "text": [
      "[[  2.71828183   7.3890561 ]\n",
      " [  7.3890561   54.59815003]]\n",
      "[[ 1.          1.41421356]\n",
      " [ 1.41421356  2.        ]]\n",
      "[[  1.   4.]\n",
      " [  4.  16.]]\n",
      "[[  1.   8.]\n",
      " [  8.  64.]]\n"
     ]
    }
   ],
   "source": [
    "# 开根号平方指数\n",
    "print(np.exp(a))\n",
    "print(np.sqrt(a))\n",
    "print(np.square(a))\n",
    "print(np.power(a, 3))\n"
   ]
  },
  {
   "cell_type": "code",
   "execution_count": 11,
   "metadata": {
    "collapsed": false
   },
   "outputs": [
    {
     "name": "stdout",
     "output_type": "stream",
     "text": [
      "[[ 0  1  2  3  4]\n",
      " [ 5  6  7  8  9]\n",
      " [10 11 12 13 14]\n",
      " [15 16 17 18 19]]\n",
      "190\n",
      "19\n",
      "0\n",
      "[ 4  9 14 19]\n",
      "[0 1 2 3 4]\n"
     ]
    }
   ],
   "source": [
    "# 全部元素的和、按行求和、按列求和\n",
    "a = np.arange(20).reshape(4,5)\n",
    "print(a)\n",
    "print(a.sum())\n",
    "print(a.max())\n",
    "print(a.min())\n",
    "print(a.max(axis=1))\n",
    "print(a.min(axis=0))"
   ]
  },
  {
   "cell_type": "code",
   "execution_count": 13,
   "metadata": {
    "collapsed": false
   },
   "outputs": [
    {
     "name": "stdout",
     "output_type": "stream",
     "text": [
      "<class 'numpy.matrixlib.defmatrix.matrix'>\n",
      "[[ 0  1  2  3  4]\n",
      " [ 5  6  7  8  9]\n",
      " [10 11 12 13 14]\n",
      " [15 16 17 18 19]]\n",
      "<class 'numpy.matrixlib.defmatrix.matrix'>\n",
      "[[ 2  5  8]\n",
      " [11 14 17]\n",
      " [20 23 26]\n",
      " [29 32 35]\n",
      " [38 41 44]]\n"
     ]
    }
   ],
   "source": [
    "# 矩阵对象（matrix）,数组可以通过asmatrix或者mat转换为矩阵\n",
    "a = np.arange(20).reshape(4, 5)\n",
    "a = np.asmatrix(a)\n",
    "print(type(a))\n",
    "print(a)\n",
    "\n",
    "b = np.matrix('1.0 2.0; 3.0 4.0')\n",
    "print(type(b)) \n",
    "\n",
    "# range函数还可以通过arange(起始，终止，步长)的方式调用生成等差数列，注意含头不含尾\n",
    "b = np.arange(2, 45, 3).reshape(5, 3)\n",
    "b = np.mat(b)\n",
    "print(b)\n"
   ]
  },
  {
   "cell_type": "code",
   "execution_count": 14,
   "metadata": {
    "collapsed": false
   },
   "outputs": [
    {
     "data": {
      "text/plain": [
       "array([ 0.  ,  0.25,  0.5 ,  0.75,  1.  ,  1.25,  1.5 ,  1.75,  2.  ])"
      ]
     },
     "execution_count": 14,
     "metadata": {},
     "output_type": "execute_result"
    }
   ],
   "source": [
    "# 指定生成的一维数组的长度\n",
    "np.linspace(0, 2, 9)"
   ]
  },
  {
   "cell_type": "code",
   "execution_count": 15,
   "metadata": {
    "collapsed": false
   },
   "outputs": [
    {
     "name": "stdout",
     "output_type": "stream",
     "text": [
      "1.5\n",
      "1.5\n"
     ]
    }
   ],
   "source": [
    "# 数组和矩阵元素的访问可通过下标进行\n",
    "a = np.array([[3.2, 1.5], [2.5, 4]])\n",
    "print(a[0][1]) \n",
    "print(a[0, 1]) "
   ]
  },
  {
   "cell_type": "code",
   "execution_count": 16,
   "metadata": {
    "collapsed": false
   },
   "outputs": [
    {
     "name": "stdout",
     "output_type": "stream",
     "text": [
      "[[ 0  1  2  3  4]\n",
      " [ 5  6  7  8  9]\n",
      " [10 11 12 13 14]\n",
      " [15 16 17 18 19]]\n",
      "[[ 1  3]\n",
      " [ 6  8]\n",
      " [11 13]\n",
      " [16 18]]\n"
     ]
    }
   ],
   "source": [
    "# 取矩阵的指定列\n",
    "a = np.arange(20).reshape(4, 5)\n",
    "print(a) \n",
    "print(a[:,[1,3]]) "
   ]
  },
  {
   "cell_type": "code",
   "execution_count": 18,
   "metadata": {
    "collapsed": false
   },
   "outputs": [
    {
     "name": "stdout",
     "output_type": "stream",
     "text": [
      "(array([2], dtype=int64), array([1], dtype=int64))\n",
      "11\n"
     ]
    }
   ],
   "source": [
    "a[:, 2][a[:, 0] > 5]  # 第一列大于5的第三列元素\n",
    "loc = np.where(a==11)  # where函数查找特定值在数组中的位置\n",
    "print(loc) \n",
    "print(a[loc[0][0], loc[1][0]]) "
   ]
  },
  {
   "cell_type": "code",
   "execution_count": 19,
   "metadata": {
    "collapsed": false
   },
   "outputs": [
    {
     "name": "stdout",
     "output_type": "stream",
     "text": [
      "[[ 0.87550081  0.51270126  0.79776509  0.00481561]\n",
      " [ 0.17278032  0.81914799  0.7429944   0.28837629]]\n",
      "[[ 0.87550081  0.17278032]\n",
      " [ 0.51270126  0.81914799]\n",
      " [ 0.79776509  0.7429944 ]\n",
      " [ 0.00481561  0.28837629]]\n",
      "[[ 0.62861515  0.48764909  0.96119497  0.75360651]\n",
      " [ 0.71265929  0.77148968  0.30722035  0.29610931]]\n",
      "[[ 0.62861515  0.71265929]\n",
      " [ 0.48764909  0.77148968]\n",
      " [ 0.96119497  0.30722035]\n",
      " [ 0.75360651  0.29610931]]\n"
     ]
    }
   ],
   "source": [
    "# 矩阵转置\n",
    "a = np.random.rand(2,4)\n",
    "print(a)\n",
    "a = np.transpose(a)\n",
    "print(a)\n",
    "b = np.random.rand(2,4)\n",
    "b = np.mat(b)\n",
    "print(b)\n",
    "print(b.T)"
   ]
  },
  {
   "cell_type": "code",
   "execution_count": 21,
   "metadata": {
    "collapsed": false
   },
   "outputs": [
    {
     "name": "stdout",
     "output_type": "stream",
     "text": [
      "[[ 0.45765423  0.45036018]\n",
      " [ 0.48244648  0.38106113]]\n",
      "[[ -8.88659462  10.50269374]\n",
      " [ 11.250967   -10.67279553]]\n",
      "[[  1.00000000e+00   8.88178420e-16]\n",
      " [  0.00000000e+00   1.00000000e+00]]\n"
     ]
    }
   ],
   "source": [
    "# 矩阵求逆\n",
    "import numpy.linalg as nlg\n",
    "a = np.random.rand(2,2)\n",
    "a = np.mat(a)\n",
    "print(a) \n",
    "ia = nlg.inv(a)\n",
    "print(ia)\n",
    "print(a * ia) "
   ]
  },
  {
   "cell_type": "code",
   "execution_count": 22,
   "metadata": {
    "collapsed": false
   },
   "outputs": [
    {
     "name": "stdout",
     "output_type": "stream",
     "text": [
      "[ 1.4779076  -0.43255416  0.38649881]\n",
      "[[-0.34791249 -0.76381666 -0.03541517]\n",
      " [-0.62094318  0.63307519 -0.40863787]\n",
      " [-0.70241474  0.12569771  0.91200924]]\n"
     ]
    }
   ],
   "source": [
    "# 求特征值和特征向量\n",
    "a = np.random.rand(3,3)\n",
    "eig_value, eig_vector = nlg.eig(a)\n",
    "print(eig_value) \n",
    "print(eig_vector) "
   ]
  },
  {
   "cell_type": "code",
   "execution_count": 23,
   "metadata": {
    "collapsed": false
   },
   "outputs": [
    {
     "name": "stdout",
     "output_type": "stream",
     "text": [
      "[[1 3]\n",
      " [2 4]\n",
      " [3 5]]\n"
     ]
    }
   ],
   "source": [
    "# 按列拼接两个向量成一个矩阵：\n",
    "a = np.array((1,2,3))\n",
    "b = np.array((3,4,5))\n",
    "print(np.column_stack((a,b))) "
   ]
  },
  {
   "cell_type": "code",
   "execution_count": 25,
   "metadata": {
    "collapsed": false
   },
   "outputs": [
    {
     "name": "stdout",
     "output_type": "stream",
     "text": [
      "[[False  True]\n",
      " [False False]]\n",
      "[[ 0.47441798  0.        ]\n",
      " [ 0.31226535  0.36162077]]\n"
     ]
    }
   ],
   "source": [
    "# nan作为缺失值的记录，通过isnan判定\n",
    "a = np.random.rand(2,2)\n",
    "a[0, 1] = np.nan\n",
    "print(np.isnan(a)) \n",
    "\n",
    "print(np.nan_to_num(a)) "
   ]
  },
  {
   "cell_type": "code",
   "execution_count": null,
   "metadata": {
    "collapsed": true
   },
   "outputs": [],
   "source": []
  }
 ],
 "metadata": {
  "kernelspec": {
   "display_name": "Python 3",
   "language": "python",
   "name": "python3"
  },
  "language_info": {
   "codemirror_mode": {
    "name": "ipython",
    "version": 3
   },
   "file_extension": ".py",
   "mimetype": "text/x-python",
   "name": "python",
   "nbconvert_exporter": "python",
   "pygments_lexer": "ipython3",
   "version": "3.6.0"
  }
 },
 "nbformat": 4,
 "nbformat_minor": 2
}
