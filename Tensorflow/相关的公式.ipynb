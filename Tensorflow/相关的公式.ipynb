{
 "cells": [
  {
   "cell_type": "markdown",
   "metadata": {},
   "source": [
    "## 高斯分布"
   ]
  },
  {
   "cell_type": "markdown",
   "metadata": {},
   "source": [
    "tensorflow:\n",
    "```python\n",
    "tf.exp(tf.negative(tf.pow(x - mean, 2.0) / (2.0 * tf.pow(sigma, 2.0))))  *  (1.0 / (sigma * tf.sqrt(2.0 * 3.1415)))\n",
    "```    \n",
    "若随机变量X服从一个数学期望为μ、标准方差为$σ^2$的高斯分布，记为：\n",
    "$X∼N(μ,σ^2)$,正态分布的期望值μ决定了其位置，其标准差σ决定了分布的幅度。 \n",
    "概率密度函数为 $$ f(x) = \\frac{1}{\\sigma\\sqrt{2\\pi}}e^{-\\frac{(x-\\mu)^2}{2\\sigma^2}} $$ \n"
   ]
  },
  {
   "cell_type": "markdown",
   "metadata": {},
   "source": [
    "## 线性回归"
   ]
  },
  {
   "cell_type": "markdown",
   "metadata": {},
   "source": [
    "简单线性回归: $Y = a + bX$   \n",
    "(只有一个自变量的情况称为简单回归，大于一个自变量情况的叫做多元回归)  ,线性回归模型经常用最小二乘j来拟合\n",
    "线性回归的应用: 流行病学,金融,经济学  \n",
    "[url ref link](https://zh.wikipedia.org/wiki/%E7%B7%9A%E6%80%A7%E5%9B%9E%E6%AD%B8)  \n",
    "[最小二乘](https://zh.wikipedia.org/wiki/%E6%9C%80%E5%B0%8F%E4%BA%8C%E4%B9%98%E6%B3%95)"
   ]
  },
  {
   "cell_type": "markdown",
   "metadata": {
    "collapsed": true
   },
   "source": [
    "## softmax回归"
   ]
  },
  {
   "cell_type": "markdown",
   "metadata": {},
   "source": [
    "tensorflow: `tf.nn.softmax(logits, name=None)  `  \n",
    "For each batch i and class j we have: `softmax[i, j] = exp(logits[i, j]) / sum(exp(logits[i]))`    \n",
    "公式： $P({y^{(i)} = j|x^{(i)};\\theta}) = \\frac{e^{\\theta_j^T}x^{(j)}}{\\sum_{i=1}^k e^{\\theta_j^T}x^{(j)}} $    \n",
    "\n",
    "Softmax回归是有监督的,在 softmax回归中，我们解决的是多分类问题（相对于 logistic 回归解决的二分类问题），类标 $\\textstyle y$ 可以取 $\\textstyle k$ 个不同的值（而不是 2 个）。当类别数 $\\textstyle k = 2$ 时，softmax 回归退化为 logistic 回归。\n",
    "\n",
    "[softmax回归 url](http://ufldl.stanford.edu/wiki/index.php/Softmax%E5%9B%9E%E5%BD%92)"
   ]
  },
  {
   "cell_type": "markdown",
   "metadata": {
    "collapsed": true
   },
   "source": [
    "## 多项式回归"
   ]
  },
  {
   "cell_type": "markdown",
   "metadata": {},
   "source": [
    "[多项式回归URL](https://zh.wikipedia.org/wiki/%E5%A4%9A%E9%A0%85%E5%BC%8F)"
   ]
  }
 ],
 "metadata": {
  "kernelspec": {
   "display_name": "Python 3",
   "language": "python",
   "name": "python3"
  },
  "language_info": {
   "codemirror_mode": {
    "name": "ipython",
    "version": 3
   },
   "file_extension": ".py",
   "mimetype": "text/x-python",
   "name": "python",
   "nbconvert_exporter": "python",
   "pygments_lexer": "ipython3",
   "version": "3.5.3"
  },
  "latex_envs": {
   "LaTeX_envs_menu_present": true,
   "autocomplete": true,
   "bibliofile": "biblio.bib",
   "cite_by": "apalike",
   "current_citInitial": 1,
   "eqLabelWithNumbers": true,
   "eqNumInitial": 1,
   "hotkeys": {
    "equation": "Ctrl-E",
    "itemize": "Ctrl-I"
   },
   "labels_anchors": false,
   "latex_user_defs": false,
   "report_style_numbering": false,
   "user_envs_cfg": false
  }
 },
 "nbformat": 4,
 "nbformat_minor": 2
}
