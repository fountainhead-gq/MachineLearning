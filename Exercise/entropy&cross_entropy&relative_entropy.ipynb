{
 "cells": [
  {
   "cell_type": "markdown",
   "metadata": {},
   "source": [
    "## entropy\n",
    "\n",
    "$H(x)=-\\sum{p(x_i)log(p(x_i))}$"
   ]
  },
  {
   "cell_type": "code",
   "execution_count": 3,
   "metadata": {
    "collapsed": false
   },
   "outputs": [
    {
     "data": {
      "text/plain": [
       "1.75"
      ]
     },
     "execution_count": 3,
     "metadata": {},
     "output_type": "execute_result"
    }
   ],
   "source": [
    "import numpy as np\n",
    "import math\n",
    "\n",
    "def entropy(p_seq):\n",
    "    return -sum(p*np.log2(p) for p in p_seq if p>0)\n",
    "    # return -sum(p*math.log2(p) for p in p_seq if p>0)\n",
    "    # return -sum(p*math.log(p,2) for p in p_seq if p>0)\n",
    "\n",
    "entropy([1/4,1/2,1/8,1/8])"
   ]
  },
  {
   "cell_type": "markdown",
   "metadata": {},
   "source": [
    "## cross entropy\n",
    "\n",
    "$H(p,q)=-\\sum_ip_i\\text{log}q_i$"
   ]
  },
  {
   "cell_type": "code",
   "execution_count": 5,
   "metadata": {
    "collapsed": false
   },
   "outputs": [
    {
     "data": {
      "text/plain": [
       "2.0"
      ]
     },
     "execution_count": 5,
     "metadata": {},
     "output_type": "execute_result"
    }
   ],
   "source": [
    "def cross_entropy(p_seq, q_seq):\n",
    "    return -sum(p*np.log2(q) for (p,q) in zip(p_seq, q_seq) if q>0)\n",
    "\n",
    "p_seq=[1/4,1/8,1/2,1/8]\n",
    "q_seq=[1/4,1/4,1/4,1/4]\n",
    "\n",
    "cross_entropy(p_seq, q_seq)    "
   ]
  },
  {
   "cell_type": "code",
   "execution_count": 6,
   "metadata": {
    "collapsed": false
   },
   "outputs": [
    {
     "data": {
      "text/plain": [
       "2.25"
      ]
     },
     "execution_count": 6,
     "metadata": {},
     "output_type": "execute_result"
    }
   ],
   "source": [
    "cross_entropy(q_seq,p_seq)"
   ]
  },
  {
   "cell_type": "markdown",
   "metadata": {},
   "source": [
    "## relative entropy\n",
    "\n",
    "$D(p||q)=-\\sum{p(x_i)log({p(x_i)/q(x_i)})}$"
   ]
  },
  {
   "cell_type": "code",
   "execution_count": 12,
   "metadata": {
    "collapsed": false
   },
   "outputs": [
    {
     "data": {
      "text/plain": [
       "0.17328679513998629"
      ]
     },
     "execution_count": 12,
     "metadata": {},
     "output_type": "execute_result"
    }
   ],
   "source": [
    "def relative_entropy(p_seq, q_seq):\n",
    "    return sum(p*np.log(p/q) for (p,q) in zip(p_seq, q_seq) if q>0)\n",
    "\n",
    "p_seq=[1/4,1/8,1/2,1/8]\n",
    "q_seq=[1/4,1/4,1/4,1/4]\n",
    "\n",
    "relative_entropy(p_seq, q_seq)    "
   ]
  },
  {
   "cell_type": "code",
   "execution_count": 13,
   "metadata": {
    "collapsed": false
   },
   "outputs": [
    {
     "data": {
      "text/plain": [
       "0.17328679513998629"
      ]
     },
     "execution_count": 13,
     "metadata": {},
     "output_type": "execute_result"
    }
   ],
   "source": [
    "p_seq = np.array(p_seq)\n",
    "q_seq = np.array(q_seq)\n",
    "(p_seq * np.log(p_seq/q_seq)).sum()"
   ]
  },
  {
   "cell_type": "code",
   "execution_count": null,
   "metadata": {
    "collapsed": true
   },
   "outputs": [],
   "source": []
  }
 ],
 "metadata": {
  "kernelspec": {
   "display_name": "python3.5",
   "language": "python",
   "name": "python3.5"
  },
  "language_info": {
   "codemirror_mode": {
    "name": "ipython",
    "version": 3
   },
   "file_extension": ".py",
   "mimetype": "text/x-python",
   "name": "python",
   "nbconvert_exporter": "python",
   "pygments_lexer": "ipython3",
   "version": "3.5.3"
  },
  "latex_envs": {
   "LaTeX_envs_menu_present": true,
   "autocomplete": true,
   "bibliofile": "biblio.bib",
   "cite_by": "apalike",
   "current_citInitial": 1,
   "eqLabelWithNumbers": true,
   "eqNumInitial": 1,
   "hotkeys": {
    "equation": "Ctrl-E",
    "itemize": "Ctrl-I"
   },
   "labels_anchors": false,
   "latex_user_defs": false,
   "report_style_numbering": false,
   "user_envs_cfg": false
  }
 },
 "nbformat": 4,
 "nbformat_minor": 2
}
