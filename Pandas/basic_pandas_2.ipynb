{
 "cells": [
  {
   "cell_type": "code",
   "execution_count": 1,
   "metadata": {
    "collapsed": true
   },
   "outputs": [],
   "source": [
    "import numpy as np\n",
    "import pandas as pd\n",
    "from pandas import Series, DataFrame\n",
    "pd.set_option('display.width', 200)"
   ]
  },
  {
   "cell_type": "code",
   "execution_count": 2,
   "metadata": {
    "collapsed": false
   },
   "outputs": [
    {
     "name": "stdout",
     "output_type": "stream",
     "text": [
      "DatetimeIndex(['2017-01-01', '2017-01-02', '2017-01-03', '2017-01-04', '2017-01-05'], dtype='datetime64[ns]', freq='D')\n"
     ]
    }
   ],
   "source": [
    "# 创建一个以日期为元素的Series\n",
    "dates = pd.date_range('20170101', periods=5)\n",
    "print(dates) "
   ]
  },
  {
   "cell_type": "code",
   "execution_count": 3,
   "metadata": {
    "collapsed": false
   },
   "outputs": [
    {
     "name": "stdout",
     "output_type": "stream",
     "text": [
      "                   A         B         C         D\n",
      "2017-01-01  0.299966  0.671892  0.933409  0.082688\n",
      "2017-01-02 -1.324337 -0.757183  0.827981  0.460106\n",
      "2017-01-03  0.500304  0.148695  0.640041 -1.128794\n",
      "2017-01-04 -0.069098 -0.420785  1.374985  1.053452\n",
      "2017-01-05  0.908485 -0.970194 -1.229919 -0.943637\n"
     ]
    }
   ],
   "source": [
    "# 将这个日期Series作为索引赋给一个DataFrame：\n",
    "df = pd.DataFrame(np.random.randn(5, 4),index=dates,columns=list('ABCD'))\n",
    "print(df) "
   ]
  },
  {
   "cell_type": "code",
   "execution_count": 4,
   "metadata": {
    "collapsed": false
   },
   "outputs": [
    {
     "name": "stdout",
     "output_type": "stream",
     "text": [
      "     A          B    C  D              E\n",
      "0  1.0 2017-02-14  1.6  4  hello pandas!\n",
      "1  1.0 2017-02-14  1.6  4  hello pandas!\n",
      "2  1.0 2017-02-14  1.6  4  hello pandas!\n",
      "3  1.0 2017-02-14  1.6  4  hello pandas!\n"
     ]
    }
   ],
   "source": [
    "# 只要是能转换成Series的对象，都可以用于创建DataFrame：\n",
    "\n",
    "df2 = pd.DataFrame({ 'A' : 1., 'B': pd.Timestamp('20170214'), 'C': pd.Series(1.6,index=list(range(4)),dtype='float64'), \\\n",
    "                    'D' : np.array([4] * 4, dtype='int64'), 'E' : 'hello pandas!' })\n",
    "print(df2) "
   ]
  },
  {
   "cell_type": "code",
   "execution_count": 7,
   "metadata": {
    "collapsed": false
   },
   "outputs": [
    {
     "name": "stdout",
     "output_type": "stream",
     "text": [
      "(5, 4)\n",
      "                   A         B         C         D\n",
      "2017-01-01  0.299966  0.671892  0.933409  0.082688\n",
      "2017-01-02 -1.324337 -0.757183  0.827981  0.460106\n",
      "2017-01-03  0.500304  0.148695  0.640041 -1.128794\n",
      "2017-01-04 -0.069098 -0.420785  1.374985  1.053452\n",
      "2017-01-05  0.908485 -0.970194 -1.229919 -0.943637\n",
      "                   A         B         C         D\n",
      "2017-01-03  0.500304  0.148695  0.640041 -1.128794\n",
      "2017-01-04 -0.069098 -0.420785  1.374985  1.053452\n",
      "2017-01-05  0.908485 -0.970194 -1.229919 -0.943637\n"
     ]
    }
   ],
   "source": [
    "print(df.shape) # 数据的大小\n",
    "# dataframe.head()和dataframe.tail()可以查看数据的头五行和尾五行，若需要改变行数，可在括号内指定\n",
    "print(df.head()) \n",
    "print(df.tail(3)) "
   ]
  },
  {
   "cell_type": "code",
   "execution_count": 8,
   "metadata": {
    "collapsed": false
   },
   "outputs": [
    {
     "name": "stdout",
     "output_type": "stream",
     "text": [
      "              A         B         C         D\n",
      "count  5.000000  5.000000  5.000000  5.000000\n",
      "mean   0.063064 -0.265515  0.509299 -0.095237\n",
      "std    0.852113  0.673187  1.009060  0.928382\n",
      "min   -1.324337 -0.970194 -1.229919 -1.128794\n",
      "25%   -0.069098 -0.757183  0.640041 -0.943637\n",
      "50%    0.299966 -0.420785  0.827981  0.082688\n",
      "75%    0.500304  0.148695  0.933409  0.460106\n",
      "max    0.908485  0.671892  1.374985  1.053452\n"
     ]
    }
   ],
   "source": [
    "# dataframe.describe()提供了DataFrame中纯数值数据的统计信息：\n",
    "print(df.describe()) "
   ]
  },
  {
   "cell_type": "code",
   "execution_count": 9,
   "metadata": {
    "collapsed": false
   },
   "outputs": [
    {
     "name": "stdout",
     "output_type": "stream",
     "text": [
      "                   D         C         B         A\n",
      "2017-01-01  0.082688  0.933409  0.671892  0.299966\n",
      "2017-01-02  0.460106  0.827981 -0.757183 -1.324337\n",
      "2017-01-03 -1.128794  0.640041  0.148695  0.500304\n",
      "2017-01-04  1.053452  1.374985 -0.420785 -0.069098\n",
      "2017-01-05 -0.943637 -1.229919 -0.970194  0.908485\n"
     ]
    }
   ],
   "source": [
    "#按行列排序，即按照索引（行名）或者列名进行排序，可调用dataframe.sort_index，指定axis=0表示按索引（行名）排序，axis=1表示按列名排序，并可指定升序或者降序：\n",
    "print(df.sort_index(axis=1, ascending=False).head()) "
   ]
  },
  {
   "cell_type": "code",
   "execution_count": 13,
   "metadata": {
    "collapsed": false
   },
   "outputs": [
    {
     "name": "stdout",
     "output_type": "stream",
     "text": [
      "                   A         B         C         D\n",
      "2017-01-02 -1.324337 -0.757183  0.827981  0.460106\n",
      "2017-01-04 -0.069098 -0.420785  1.374985  1.053452\n",
      "2017-01-01  0.299966  0.671892  0.933409  0.082688\n",
      "2017-01-03  0.500304  0.148695  0.640041 -1.128794\n",
      "2017-01-05  0.908485 -0.970194 -1.229919 -0.943637\n",
      "                   A         B         C         D\n",
      "2017-01-05  0.908485 -0.970194 -1.229919 -0.943637\n",
      "2017-01-03  0.500304  0.148695  0.640041 -1.128794\n",
      "2017-01-01  0.299966  0.671892  0.933409  0.082688\n",
      "2017-01-04 -0.069098 -0.420785  1.374985  1.053452\n",
      "2017-01-02 -1.324337 -0.757183  0.827981  0.460106\n"
     ]
    }
   ],
   "source": [
    "# 第二种排序是按值排序，可指定列名和排序方式，默认的是升序排序：\n",
    "print(df.sort_values(by='A').head()) \n",
    "df = df.sort_values(by=['A', 'C'], ascending=[False, True])\n",
    "print(df.head()) "
   ]
  },
  {
   "cell_type": "code",
   "execution_count": 18,
   "metadata": {
    "collapsed": false
   },
   "outputs": [
    {
     "name": "stdout",
     "output_type": "stream",
     "text": [
      "                   A         B         C         D\n",
      "2017-01-03  0.500304  0.148695  0.640041 -1.128794\n",
      "2017-01-01  0.299966  0.671892  0.933409  0.082688\n"
     ]
    }
   ],
   "source": [
    "# :来获取部行或者全部列\n",
    "print(df.iloc[:][1:3])"
   ]
  },
  {
   "cell_type": "code",
   "execution_count": 19,
   "metadata": {
    "collapsed": false
   },
   "outputs": [
    {
     "name": "stdout",
     "output_type": "stream",
     "text": [
      "                   A         B         C         D\n",
      "2017-01-05  0.908485 -0.970194 -1.229919 -0.943637\n",
      "2017-01-03  0.500304  0.148695  0.640041 -1.128794\n",
      "2017-01-01  0.299966  0.671892  0.933409  0.082688\n"
     ]
    }
   ],
   "source": [
    "# 特定列大于均值的数据\n",
    "print(df[df.A > df.A.mean()].head()) "
   ]
  },
  {
   "cell_type": "code",
   "execution_count": 22,
   "metadata": {
    "collapsed": false
   },
   "outputs": [
    {
     "name": "stdout",
     "output_type": "stream",
     "text": [
      "Empty DataFrame\n",
      "Columns: [A, B, C, D]\n",
      "Index: []\n"
     ]
    }
   ],
   "source": [
    "# isin()函数可方便地过滤DataFrame中的数据：\n",
    "print(df[df['D'].isin(['0.082688', '0.460106'])].head()) "
   ]
  },
  {
   "cell_type": "code",
   "execution_count": 27,
   "metadata": {
    "collapsed": false
   },
   "outputs": [
    {
     "name": "stdout",
     "output_type": "stream",
     "text": [
      "A    0.063064\n",
      "B   -0.265515\n",
      "C    0.509299\n",
      "D   -0.095237\n",
      "dtype: float64\n",
      "A    0.315320\n",
      "B   -1.327575\n",
      "C    2.546497\n",
      "D   -0.476185\n",
      "dtype: float64\n",
      "2017-01-05   -2.235265\n",
      "2017-01-03    0.160246\n",
      "2017-01-01    1.987956\n",
      "2017-01-04    1.938554\n",
      "2017-01-02   -0.793434\n",
      "dtype: float64\n"
     ]
    }
   ],
   "source": [
    "# 指定0按列进行，指定1按行进行\n",
    "print(df.mean(0))\n",
    "print(df.sum(0))\n",
    "print(df.sum(1))"
   ]
  },
  {
   "cell_type": "code",
   "execution_count": 28,
   "metadata": {
    "collapsed": false
   },
   "outputs": [
    {
     "name": "stdout",
     "output_type": "stream",
     "text": [
      " 0.640041    1\n",
      "-1.229919    1\n",
      " 1.374985    1\n",
      " 0.827981    1\n",
      " 0.933409    1\n",
      "Name: C, dtype: int64\n"
     ]
    }
   ],
   "source": [
    "# value_counts函数可以方便地统计频数：\n",
    "print(df['C'].value_counts().head()) "
   ]
  },
  {
   "cell_type": "code",
   "execution_count": 29,
   "metadata": {
    "collapsed": false
   },
   "outputs": [
    {
     "name": "stdout",
     "output_type": "stream",
     "text": [
      "                   B\n",
      "2017-01-05  0.000000\n",
      "2017-01-03  0.681383\n",
      "2017-01-01  1.000000\n",
      "2017-01-04  0.334580\n",
      "2017-01-02  0.129720\n"
     ]
    }
   ],
   "source": [
    "# Series可以调用map函数来对每个元素应用一个函数，DataFrame可以调用apply函数对每一列（行）应用一个函数\n",
    "print(df[['B']].apply(lambda x: (x - x.min()) / (x.max() - x.min())).head()) "
   ]
  },
  {
   "cell_type": "code",
   "execution_count": 30,
   "metadata": {
    "collapsed": false
   },
   "outputs": [
    {
     "name": "stdout",
     "output_type": "stream",
     "text": [
      "                  A         B         C\n",
      "D                                      \n",
      "-1.128794  0.500304  0.148695  0.640041\n",
      "-0.943637  0.908485 -0.970194 -1.229919\n",
      " 0.082688  0.299966  0.671892  0.933409\n",
      " 0.460106 -1.324337 -0.757183  0.827981\n",
      " 1.053452 -0.069098 -0.420785  1.374985\n"
     ]
    }
   ],
   "source": [
    "# 数据分组处理\n",
    "df_grp = df.groupby('D')\n",
    "grp_mean = df_grp.mean()\n",
    "print(grp_mean) "
   ]
  },
  {
   "cell_type": "code",
   "execution_count": null,
   "metadata": {
    "collapsed": true
   },
   "outputs": [],
   "source": []
  }
 ],
 "metadata": {
  "kernelspec": {
   "display_name": "Python 3",
   "language": "python",
   "name": "python3"
  },
  "language_info": {
   "codemirror_mode": {
    "name": "ipython",
    "version": 3
   },
   "file_extension": ".py",
   "mimetype": "text/x-python",
   "name": "python",
   "nbconvert_exporter": "python",
   "pygments_lexer": "ipython3",
   "version": "3.6.0"
  }
 },
 "nbformat": 4,
 "nbformat_minor": 2
}
