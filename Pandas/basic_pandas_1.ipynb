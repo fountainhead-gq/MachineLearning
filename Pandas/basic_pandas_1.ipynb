{
 "cells": [
  {
   "cell_type": "code",
   "execution_count": 2,
   "metadata": {
    "collapsed": false
   },
   "outputs": [
    {
     "name": "stdout",
     "output_type": "stream",
     "text": [
      "0.19.2\n"
     ]
    }
   ],
   "source": [
    "import pandas as pd\n",
    "print(pd.__version__)"
   ]
  },
  {
   "cell_type": "code",
   "execution_count": 3,
   "metadata": {
    "collapsed": false
   },
   "outputs": [
    {
     "name": "stdout",
     "output_type": "stream",
     "text": [
      "[ 0.46284954 -0.50567034 -0.66016823 -1.16795442 -0.10144778]\n",
      "0    0.462850\n",
      "1   -0.505670\n",
      "2   -0.660168\n",
      "3   -1.167954\n",
      "4   -0.101448\n",
      "dtype: float64\n"
     ]
    }
   ],
   "source": [
    "import numpy as np\n",
    "from pandas import Series, DataFrame\n",
    "\n",
    "# pandas主要的两个数据结构是Series和DataFrame\n",
    "# Series和一维数组最主要的区别在于Series类型具有索引（index），可以和数据结构哈希（Hash）联系起来。\n",
    "a = np.random.randn(5)\n",
    "print(a) \n",
    "# 基本格式是s = Series(data, index=index, name=name)\n",
    "s = Series(a)\n",
    "print(s)"
   ]
  },
  {
   "cell_type": "code",
   "execution_count": 4,
   "metadata": {
    "collapsed": false
   },
   "outputs": [
    {
     "name": "stdout",
     "output_type": "stream",
     "text": [
      "a    0.461791\n",
      "b   -1.232140\n",
      "c    0.647539\n",
      "d    0.714020\n",
      "e    1.077135\n",
      "dtype: float64\n",
      "Index(['a', 'b', 'c', 'd', 'e'], dtype='object')\n"
     ]
    }
   ],
   "source": [
    "#若指定index，那么index长度要和data的长度一致：\n",
    "s = Series(np.random.randn(5), index=['a', 'b', 'c', 'd', 'e'])\n",
    "print(s)\n",
    "print(s.index)  # Series.index查看具体的index"
   ]
  },
  {
   "cell_type": "code",
   "execution_count": 5,
   "metadata": {
    "collapsed": false
   },
   "outputs": [
    {
     "name": "stdout",
     "output_type": "stream",
     "text": [
      "a    1.606507\n",
      "b    0.333256\n",
      "c   -1.043982\n",
      "d   -0.900337\n",
      "e    2.800235\n",
      "Name: my_series, dtype: float64\n",
      "my_series\n"
     ]
    }
   ],
   "source": [
    "s = Series(np.random.randn(5), index=['a', 'b', 'c', 'd', 'e'], name='my_series')\n",
    "print(s)\n",
    "print(s.name) "
   ]
  },
  {
   "cell_type": "code",
   "execution_count": 6,
   "metadata": {
    "collapsed": false
   },
   "outputs": [
    {
     "name": "stdout",
     "output_type": "stream",
     "text": [
      "{'a': 0.0, 'b': 1, 'c': 2}\n",
      "a    0.0\n",
      "b    1.0\n",
      "c    2.0\n",
      "dtype: float64\n"
     ]
    }
   ],
   "source": [
    "# Series还可以从字典（dict）创建：\n",
    "\n",
    "d = {'a': 0., 'b': 1, 'c': 2}\n",
    "print(d)\n",
    "s = Series(d)\n",
    "print(s)"
   ]
  },
  {
   "cell_type": "code",
   "execution_count": 7,
   "metadata": {
    "collapsed": false
   },
   "outputs": [
    {
     "name": "stdout",
     "output_type": "stream",
     "text": [
      "b    1.0\n",
      "c    2.0\n",
      "d    NaN\n",
      "a    0.0\n",
      "dtype: float64\n"
     ]
    }
   ],
   "source": [
    "# 使用字典创建Series时指定index的情形（index长度不必和字典相同）：\n",
    "s = Series(d, index=['b', 'c', 'd', 'a'])\n",
    "print(s)"
   ]
  },
  {
   "cell_type": "code",
   "execution_count": 8,
   "metadata": {
    "collapsed": false
   },
   "outputs": [
    {
     "name": "stdout",
     "output_type": "stream",
     "text": [
      "-0.220558722962\n",
      "a   -0.220559\n",
      "b   -0.772296\n",
      "c    0.634132\n",
      "d   -0.917901\n",
      "dtype: float64\n",
      "d   -0.917901\n",
      "b   -0.772296\n",
      "f   -0.278899\n",
      "dtype: float64\n",
      "c    0.634132\n",
      "f   -0.278899\n",
      "j   -1.300255\n",
      "dtype: float64\n",
      "c    0.634132\n",
      "dtype: float64\n",
      "True\n"
     ]
    }
   ],
   "source": [
    "# Series数据可以和数组一样使用下标，也可以像字典一样使用索引，还可以使用一些条件过滤：\n",
    "\n",
    "s = Series(np.random.randn(10),index=['a', 'b', 'c', 'd', 'e', 'f', 'g', 'h', 'i', 'j'])\n",
    "print(s[0])\n",
    "print(s[:4])\n",
    "print(s[[3,1,5]])\n",
    "print(s[['c','f','j']])\n",
    "print(s[s > 0.5])\n",
    "print('e' in s)"
   ]
  },
  {
   "cell_type": "markdown",
   "metadata": {
    "collapsed": true
   },
   "source": [
    "## DataFrame"
   ]
  },
  {
   "cell_type": "code",
   "execution_count": 9,
   "metadata": {
    "collapsed": false
   },
   "outputs": [
    {
     "name": "stdout",
     "output_type": "stream",
     "text": [
      "   one  two\n",
      "a  1.0  1.0\n",
      "b  2.0  2.0\n",
      "c  3.0  3.0\n",
      "d  NaN  4.0\n"
     ]
    }
   ],
   "source": [
    "# DataFrame是将数个Series按列合并而成的二维数据结构，每一列单独取出来是一个Series\n",
    "d = {'one': Series([1., 2., 3.], index=['a', 'b', 'c']), 'two': Series([1., 2., 3., 4.], index=['a', 'b', 'c', 'd'])}\n",
    "df = DataFrame(d)\n",
    "print(df) "
   ]
  },
  {
   "cell_type": "code",
   "execution_count": 10,
   "metadata": {
    "collapsed": false
   },
   "outputs": [
    {
     "name": "stdout",
     "output_type": "stream",
     "text": [
      "   two three\n",
      "r  NaN   NaN\n",
      "d  4.0   NaN\n",
      "a  1.0   NaN\n"
     ]
    }
   ],
   "source": [
    "# 可以指定所需的行和列，若字典中不含有对应的元素，则置为NaN：\n",
    "\n",
    "df = DataFrame(d, index=['r', 'd', 'a'], columns=['two', 'three'])\n",
    "print(df) "
   ]
  },
  {
   "cell_type": "code",
   "execution_count": 11,
   "metadata": {
    "collapsed": false
   },
   "outputs": [
    {
     "name": "stdout",
     "output_type": "stream",
     "text": [
      "Index(['r', 'd', 'a'], dtype='object')\n",
      "Index(['two', 'three'], dtype='object')\n",
      "[[nan nan]\n",
      " [4.0 nan]\n",
      " [1.0 nan]]\n"
     ]
    }
   ],
   "source": [
    "# 可以使用dataframe.index和dataframe.columns来查看DataFrame的行和列，dataframe.values则以数组的形式返回DataFrame的元素：\n",
    "print(df.index) \n",
    "print(df.columns) \n",
    "print(df.values) \n"
   ]
  },
  {
   "cell_type": "code",
   "execution_count": 12,
   "metadata": {
    "collapsed": false
   },
   "outputs": [
    {
     "name": "stdout",
     "output_type": "stream",
     "text": [
      "   one  two\n",
      "a  1.0  4.0\n",
      "b  2.0  3.0\n",
      "c  3.0  2.0\n",
      "d  4.0  1.0\n"
     ]
    }
   ],
   "source": [
    "# DataFrame也可以从值是数组的字典创建，但是各个数组的长度需要相同：\n",
    "\n",
    "d = {'one': [1., 2., 3., 4.], 'two': [4., 3., 2., 1.]}\n",
    "df = DataFrame(d, index=['a', 'b', 'c', 'd'])\n",
    "print(df) "
   ]
  },
  {
   "cell_type": "code",
   "execution_count": 13,
   "metadata": {
    "collapsed": false
   },
   "outputs": [
    {
     "name": "stdout",
     "output_type": "stream",
     "text": [
      "     a  b    c\n",
      "0  1.6  2  NaN\n",
      "1  3.0  6  9.0\n"
     ]
    }
   ],
   "source": [
    "# 值非数组时，没有这一限制，并且缺失值补成NaN：\n",
    "\n",
    "d= [{'a': 1.6, 'b': 2}, {'a': 3, 'b': 6, 'c': 9}]\n",
    "df = DataFrame(d)\n",
    "print(df)"
   ]
  },
  {
   "cell_type": "code",
   "execution_count": 14,
   "metadata": {
    "collapsed": false
   },
   "outputs": [
    {
     "name": "stdout",
     "output_type": "stream",
     "text": [
      "Empty DataFrame\n",
      "Columns: []\n",
      "Index: []\n"
     ]
    }
   ],
   "source": [
    "# 创建一个空的DataFrame，可以这么做：\n",
    "\n",
    "df = DataFrame()\n",
    "print(df) "
   ]
  },
  {
   "cell_type": "code",
   "execution_count": 15,
   "metadata": {
    "collapsed": false
   },
   "outputs": [
    {
     "name": "stdout",
     "output_type": "stream",
     "text": [
      "   0     1\n",
      "0  0   4.0\n",
      "1  1   8.0\n",
      "2  2  12.0\n",
      "3  3  16.0\n",
      "4  4  20.0\n",
      "0     0.0\n",
      "1     1.0\n",
      "2     2.0\n",
      "3     3.0\n",
      "4     4.0\n",
      "0     4.0\n",
      "1     8.0\n",
      "2    12.0\n",
      "3    16.0\n",
      "4    20.0\n",
      "dtype: float64\n"
     ]
    }
   ],
   "source": [
    "# 使用concat函数基于Series或者DataFrame创建一个DataFrame\n",
    "# axis=1表示按列进行合并，axis=0表示按行合并\n",
    "a = Series(range(5))\n",
    "b = Series(np.linspace(4, 20, 5))\n",
    "df = pd.concat([a, b], axis=1)\n",
    "sf = pd.concat([a, b], axis=0)\n",
    "print(df)\n",
    "print(sf) "
   ]
  },
  {
   "cell_type": "code",
   "execution_count": 16,
   "metadata": {
    "collapsed": false
   },
   "outputs": [
    {
     "name": "stdout",
     "output_type": "stream",
     "text": [
      "         0    1     2     3     4\n",
      "alpha  0.0  0.0   0.0   0.0   0.0\n",
      "beta   1.0  2.0   3.0   4.0   5.0\n",
      "gamma  2.0  4.0   6.0   8.0  10.0\n",
      "delta  3.0  6.0   9.0  12.0  15.0\n",
      "eta    4.0  8.0  12.0  16.0  20.0\n"
     ]
    }
   ],
   "source": [
    "# 按行合并DataFrame成一个大的DataFrame：\n",
    "\n",
    "df = DataFrame()\n",
    "index = ['alpha', 'beta', 'gamma', 'delta', 'eta']\n",
    "for i in range(5):\n",
    "    a = DataFrame([np.linspace(i, 5*i, 5)], index=[index[i]])\n",
    "    df = pd.concat([df, a], axis=0)\n",
    "print(df) "
   ]
  },
  {
   "cell_type": "code",
   "execution_count": 17,
   "metadata": {
    "collapsed": false
   },
   "outputs": [
    {
     "name": "stdout",
     "output_type": "stream",
     "text": [
      "alpha    0.0\n",
      "beta     2.0\n",
      "gamma    4.0\n",
      "delta    6.0\n",
      "eta      8.0\n",
      "Name: 1, dtype: float64\n",
      "<class 'pandas.core.series.Series'>\n"
     ]
    }
   ],
   "source": [
    "# 用dataframe.column_name选取列，也可以使用dataframe[]操作选取列，前一种方法只能选取一列，而后一种方法可以选择多列。若DataFrame没有列名，[]可以使用非负整数，也就是“下标”选取列；若有列名，则必须使用列名选取\n",
    "print(df[1]) \n",
    "print(type(df[1])) "
   ]
  },
  {
   "cell_type": "code",
   "execution_count": 18,
   "metadata": {
    "collapsed": false
   },
   "outputs": [
    {
     "name": "stdout",
     "output_type": "stream",
     "text": [
      "alpha    0.0\n",
      "beta     2.0\n",
      "gamma    4.0\n",
      "delta    6.0\n",
      "eta      8.0\n",
      "Name: b, dtype: float64\n",
      "<class 'pandas.core.series.Series'>\n"
     ]
    }
   ],
   "source": [
    "df.columns = ['a', 'b', 'c', 'd', 'e']\n",
    "print(df['b']) \n",
    "print(type(df['b'])) \n"
   ]
  },
  {
   "cell_type": "code",
   "execution_count": 19,
   "metadata": {
    "collapsed": false
   },
   "outputs": [
    {
     "name": "stdout",
     "output_type": "stream",
     "text": [
      "alpha    0.0\n",
      "beta     2.0\n",
      "gamma    4.0\n",
      "delta    6.0\n",
      "eta      8.0\n",
      "Name: b, dtype: float64\n",
      "<class 'pandas.core.series.Series'>\n"
     ]
    }
   ],
   "source": [
    "print(df.b) \n",
    "print(type(df.b)) "
   ]
  },
  {
   "cell_type": "code",
   "execution_count": 20,
   "metadata": {
    "collapsed": false
   },
   "outputs": [
    {
     "name": "stdout",
     "output_type": "stream",
     "text": [
      "         a     d\n",
      "alpha  0.0   0.0\n",
      "beta   1.0   4.0\n",
      "gamma  2.0   8.0\n",
      "delta  3.0  12.0\n",
      "eta    4.0  16.0\n",
      "<class 'pandas.core.frame.DataFrame'>\n"
     ]
    }
   ],
   "source": [
    "print(df[['a', 'd']]) \n",
    "print(type(df[['a', 'd']])) "
   ]
  },
  {
   "cell_type": "code",
   "execution_count": 21,
   "metadata": {
    "collapsed": false
   },
   "outputs": [
    {
     "name": "stdout",
     "output_type": "stream",
     "text": [
      "6.0\n",
      "4.0\n"
     ]
    }
   ],
   "source": [
    "# 单独取一列，其数据结构显示的是Series\n",
    "print(df['b'][3]) \n",
    "print(df['b']['gamma']) "
   ]
  },
  {
   "cell_type": "code",
   "execution_count": 22,
   "metadata": {
    "collapsed": false
   },
   "outputs": [
    {
     "name": "stdout",
     "output_type": "stream",
     "text": [
      "a    1.0\n",
      "b    2.0\n",
      "c    3.0\n",
      "d    4.0\n",
      "e    5.0\n",
      "Name: beta, dtype: float64\n",
      "a    1.0\n",
      "b    2.0\n",
      "c    3.0\n",
      "d    4.0\n",
      "e    5.0\n",
      "Name: beta, dtype: float64\n"
     ]
    }
   ],
   "source": [
    "#若选取行，可以使用dataframe.iloc按下标选取，或者使用dataframe.loc按索引选取：\n",
    "print(df.iloc[1]) \n",
    "print(df.loc['beta']) "
   ]
  },
  {
   "cell_type": "code",
   "execution_count": 23,
   "metadata": {
    "collapsed": false
   },
   "outputs": [
    {
     "name": "stdout",
     "output_type": "stream",
     "text": [
      "         a    b    c    d     e\n",
      "beta   1.0  2.0  3.0  4.0   5.0\n",
      "gamma  2.0  4.0  6.0  8.0  10.0\n",
      "         a    b    c     d     e\n",
      "alpha  0.0  0.0  0.0   0.0   0.0\n",
      "gamma  2.0  4.0  6.0   8.0  10.0\n",
      "delta  3.0  6.0  9.0  12.0  15.0\n"
     ]
    }
   ],
   "source": [
    "# 选取行还可以使用切片的方式或者是布尔类型的向量：\n",
    "print(df[1:3]) \n",
    "bool_vec = [True, False, True, True, False]\n",
    "print(df[bool_vec]) "
   ]
  },
  {
   "cell_type": "code",
   "execution_count": 24,
   "metadata": {
    "collapsed": false
   },
   "outputs": [
    {
     "name": "stdout",
     "output_type": "stream",
     "text": [
      "         b     d\n",
      "beta   2.0   4.0\n",
      "delta  6.0  12.0\n",
      "         b     d\n",
      "beta   2.0   4.0\n",
      "delta  6.0  12.0\n",
      "         b     d\n",
      "beta   2.0   4.0\n",
      "delta  6.0  12.0\n",
      "         b     d\n",
      "beta   2.0   4.0\n",
      "delta  6.0  12.0\n"
     ]
    }
   ],
   "source": [
    "# 行列组合起来选取数据\n",
    "print(df[['b', 'd']].iloc[[1, 3]]) \n",
    "print(df.iloc[[1, 3]][['b', 'd']]) \n",
    "print(df[['b', 'd']].loc[['beta', 'delta']]) \n",
    "print(df.loc[['beta', 'delta']][['b', 'd']]) "
   ]
  },
  {
   "cell_type": "code",
   "execution_count": 25,
   "metadata": {
    "collapsed": false
   },
   "outputs": [
    {
     "name": "stdout",
     "output_type": "stream",
     "text": [
      "8.0\n",
      "8.0\n"
     ]
    }
   ],
   "source": [
    "#访问个特殊位置的元素的话，dataframe.at和dataframe.iat是最快的方式，它们分别用于使用索引和下标进行访问：\n",
    "print(df.iat[2, 3]) \n",
    "print(df.at['gamma', 'd']) "
   ]
  },
  {
   "cell_type": "code",
   "execution_count": 26,
   "metadata": {
    "collapsed": false
   },
   "outputs": [
    {
     "name": "stdout",
     "output_type": "stream",
     "text": [
      "10.0\n",
      "         b     e\n",
      "delta  6.0  15.0\n",
      "gamma  4.0  10.0\n",
      "         b     e\n",
      "beta   2.0   5.0\n",
      "gamma  4.0  10.0\n",
      "        b    e\n",
      "beta  2.0  5.0\n",
      "2     NaN  NaN\n",
      "         b   4\n",
      "beta   2.0 NaN\n",
      "gamma  4.0 NaN\n"
     ]
    }
   ],
   "source": [
    "# dataframe.ix可以混合使用索引和下标进行访问，行列内部需要一致，不可以同时使用索引和标签访问行或者列，否则将会得到意外的结果：\n",
    "print(df.ix['gamma', 4]) \n",
    "print(df.ix[['delta', 'gamma'], [1, 4]]) \n",
    "print(df.ix[[1, 2], ['b', 'e']]) \n",
    "\n",
    "print(df.ix[['beta', 2], ['b', 'e']]) # Unwanted result\n",
    "print(df.ix[[1, 2], ['b', 4]]) # Unwanted result\n"
   ]
  },
  {
   "cell_type": "code",
   "execution_count": null,
   "metadata": {
    "collapsed": true
   },
   "outputs": [],
   "source": []
  }
 ],
 "metadata": {
  "kernelspec": {
   "display_name": "Python 3",
   "language": "python",
   "name": "python3"
  },
  "language_info": {
   "codemirror_mode": {
    "name": "ipython",
    "version": 3
   },
   "file_extension": ".py",
   "mimetype": "text/x-python",
   "name": "python",
   "nbconvert_exporter": "python",
   "pygments_lexer": "ipython3",
   "version": "3.6.0"
  }
 },
 "nbformat": 4,
 "nbformat_minor": 2
}
